{
 "cells": [
  {
   "cell_type": "code",
   "execution_count": null,
   "id": "0d4685bc",
   "metadata": {},
   "outputs": [],
   "source": [
    "# @title SPLITFUNCTION\n",
    "def split_dataset(df, target_col, random_state=42, test_ratio=0.2):\n",
    "    \"\"\"\n",
    "    Splits the given DataFrame into train/test sets.\n",
    "\n",
    "    Parameters\n",
    "    ----------\n",
    "    df : pandas.DataFrame\n",
    "        The full dataset containing features + target.\n",
    "    target_col : str\n",
    "        The name of the target column (y).\n",
    "    random_state : int, default=42\n",
    "        Random seed for reproducibility.\n",
    "    test_ratio : float, default=0.2\n",
    "        Proportion of data to use for test set (e.g. 0.2 = 20%).\n",
    "\n",
    "    Returns\n",
    "    -------\n",
    "    X_train, X_test, y_train, y_test : pd.DataFrame, pd.DataFrame, pd.Series, pd.Series\n",
    "        Split datasets ready for preprocessing or model fitting.\n",
    "    \"\"\"\n",
    "\n",
    "    if target_col not in df.columns:\n",
    "        raise ValueError(f\"Target column '{target_col}' not found in DataFrame.\")\n",
    "\n",
    "    X = df.drop(columns=[target_col])\n",
    "    y = df[target_col]\n",
    "\n",
    "    X_train, X_test, y_train, y_test = train_test_split(\n",
    "        X, y, test_size=test_ratio, stratify=y if len(y.unique()) < 20 else None,\n",
    "        random_state=random_state\n",
    "    )\n",
    "\n",
    "    print(f\"✅ Data split complete: {X_train.shape[0]} train / {X_test.shape[0]} test samples\")\n",
    "    return X_train, X_test, y_train, y_test\n",
    "\n",
    "\n",
    "# Example usage:\n",
    "# X_train, X_test, y_train, y_test = split_dataset(df, target_col='status_label', random_state=42, test_ratio=0.2)\n"
   ]
  }
 ],
 "metadata": {
  "language_info": {
   "name": "python"
  }
 },
 "nbformat": 4,
 "nbformat_minor": 5
}
