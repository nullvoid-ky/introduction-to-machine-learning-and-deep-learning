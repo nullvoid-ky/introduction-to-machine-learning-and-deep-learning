{
  "nbformat": 4,
  "nbformat_minor": 5,
  "metadata": {
    "kernelspec": {
      "display_name": "Python 3",
      "language": "python",
      "name": "python3"
    },
    "language_info": {
      "name": "python",
      "version": "3.x"
    },
    "colab": {
      "provenance": [],
      "include_colab_link": true
    }
  },
  "cells": [
    {
      "cell_type": "markdown",
      "metadata": {
        "id": "view-in-github",
        "colab_type": "text"
      },
      "source": [
        "<a href=\"https://colab.research.google.com/github/nullvoid-ky/introduction-to-machine-learning-and-deep-learning/blob/main/Bankruptcy_PerModel_Balanced_Threshold.ipynb\" target=\"_parent\"><img src=\"https://colab.research.google.com/assets/colab-badge.svg\" alt=\"Open In Colab\"/></a>"
      ]
    },
    {
      "cell_type": "markdown",
      "metadata": {
        "id": "6hiBwApmIWjb"
      },
      "source": [
        "# Bankruptcy Prediction – Per-model runs + Data Balancing + Threshold Tuning\n",
        "รันแต่ละโมเดลแยก cell + เครื่องมือแก้ **class imbalance (93/7)** และ **threshold tuning**\n"
      ],
      "id": "6hiBwApmIWjb"
    },
    {
      "cell_type": "code",
      "source": [
        "# ===== Setup & Installs (Kaggle usually has most of these; safe to re-run) =====\n",
        "!pip -q install kagglehub shap lightgbm xgboost\n",
        "\n",
        "import numpy as np\n",
        "import pandas as pd\n",
        "import matplotlib.pyplot as plt\n",
        "from typing import List\n",
        "\n",
        "from sklearn.model_selection import train_test_split, StratifiedKFold\n",
        "from sklearn.pipeline import Pipeline\n",
        "from sklearn.preprocessing import StandardScaler\n",
        "from sklearn.impute import SimpleImputer\n",
        "from sklearn.compose import ColumnTransformer\n",
        "from sklearn.metrics import accuracy_score, roc_auc_score\n",
        "from sklearn.linear_model import LogisticRegression\n",
        "from sklearn.ensemble import RandomForestClassifier, GradientBoostingClassifier\n",
        "from sklearn.inspection import permutation_importance\n",
        "\n",
        "import shap\n",
        "import warnings\n",
        "warnings.filterwarnings('ignore')\n"
      ],
      "metadata": {
        "id": "C_95dReTIZ1A"
      },
      "id": "C_95dReTIZ1A",
      "execution_count": 9,
      "outputs": []
    },
    {
      "cell_type": "code",
      "source": [
        "import kagglehub\n",
        "\n",
        "# Download latest version\n",
        "path = kagglehub.dataset_download(\"utkarshx27/american-companies-bankruptcy-prediction-dataset\")\n",
        "\n",
        "print(\"Path to dataset files:\", path)"
      ],
      "metadata": {
        "colab": {
          "base_uri": "https://localhost:8080/"
        },
        "id": "06bOO_c0IZxx",
        "outputId": "42bc8966-93e6-4c6b-c324-d8fdb92f22fb"
      },
      "id": "06bOO_c0IZxx",
      "execution_count": 10,
      "outputs": [
        {
          "output_type": "stream",
          "name": "stdout",
          "text": [
            "Using Colab cache for faster access to the 'american-companies-bankruptcy-prediction-dataset' dataset.\n",
            "Path to dataset files: /kaggle/input/american-companies-bankruptcy-prediction-dataset\n"
          ]
        }
      ]
    },
    {
      "cell_type": "code",
      "source": [
        "from kagglehub import KaggleDatasetAdapter, load_dataset\n",
        "\n",
        "# >>>>>>>>>>>>>>>>>>>>>>>>>>>>>>>>>>>>>>>>>>>>>>>>>>>>>>>>>>>>\n",
        "# Set the CSV file path **inside** the dataset (adjust if needed)\n",
        "# Explore the dataset directory printed below to confirm the file name.\n",
        "# >>>>>>>>>>>>>>>>>>>>>>>>>>>>>>>>>>>>>>>>>>>>>>>>>>>>>>>>>>>>\n",
        "file_path = \"/kaggle/input/american-companies-bankruptcy-prediction-dataset/american_bankruptcy.csv\"\n",
        "\n",
        "df = pd.read_csv(file_path)\n",
        "\n",
        "print(\"Loaded shape:\", df.shape)\n",
        "print(\"Columns:\\n\", list(df.columns))\n",
        "df.head()"
      ],
      "metadata": {
        "colab": {
          "base_uri": "https://localhost:8080/",
          "height": 291
        },
        "id": "VDBnUmPrIZrJ",
        "outputId": "a3d00d61-fbb9-48c3-9695-05f53bd7bfe7"
      },
      "id": "VDBnUmPrIZrJ",
      "execution_count": 11,
      "outputs": [
        {
          "output_type": "stream",
          "name": "stdout",
          "text": [
            "Loaded shape: (78682, 21)\n",
            "Columns:\n",
            " ['company_name', 'status_label', 'year', 'X1', 'X2', 'X3', 'X4', 'X5', 'X6', 'X7', 'X8', 'X9', 'X10', 'X11', 'X12', 'X13', 'X14', 'X15', 'X16', 'X17', 'X18']\n"
          ]
        },
        {
          "output_type": "execute_result",
          "data": {
            "text/plain": [
              "  company_name status_label  year       X1       X2      X3      X4       X5  \\\n",
              "0          C_1        alive  1999  511.267  833.107  18.373  89.031  336.018   \n",
              "1          C_1        alive  2000  485.856  713.811  18.577  64.367  320.590   \n",
              "2          C_1        alive  2001  436.656  526.477  22.496  27.207  286.588   \n",
              "3          C_1        alive  2002  396.412  496.747  27.172  30.745  259.954   \n",
              "4          C_1        alive  2003  432.204  523.302  26.680  47.491  247.245   \n",
              "\n",
              "       X6       X7  ...        X9      X10      X11     X12      X13      X14  \\\n",
              "0  35.163  128.348  ...  1024.333  740.998  180.447  70.658  191.226  163.816   \n",
              "1  18.531  115.187  ...   874.255  701.854  179.987  45.790  160.444  125.392   \n",
              "2 -58.939   77.528  ...   638.721  710.199  217.699   4.711  112.244  150.464   \n",
              "3 -12.410   66.322  ...   606.337  686.621  164.658   3.573  109.590  203.575   \n",
              "4   3.504  104.661  ...   651.958  709.292  248.666  20.811  128.656  131.261   \n",
              "\n",
              "       X15       X16      X17      X18  \n",
              "0  201.026  1024.333  401.483  935.302  \n",
              "1  204.065   874.255  361.642  809.888  \n",
              "2  139.603   638.721  399.964  611.514  \n",
              "3  124.106   606.337  391.633  575.592  \n",
              "4  131.884   651.958  407.608  604.467  \n",
              "\n",
              "[5 rows x 21 columns]"
            ],
            "text/html": [
              "\n",
              "  <div id=\"df-13b2fa68-9636-4a2a-89de-b6b0bc7ee98d\" class=\"colab-df-container\">\n",
              "    <div>\n",
              "<style scoped>\n",
              "    .dataframe tbody tr th:only-of-type {\n",
              "        vertical-align: middle;\n",
              "    }\n",
              "\n",
              "    .dataframe tbody tr th {\n",
              "        vertical-align: top;\n",
              "    }\n",
              "\n",
              "    .dataframe thead th {\n",
              "        text-align: right;\n",
              "    }\n",
              "</style>\n",
              "<table border=\"1\" class=\"dataframe\">\n",
              "  <thead>\n",
              "    <tr style=\"text-align: right;\">\n",
              "      <th></th>\n",
              "      <th>company_name</th>\n",
              "      <th>status_label</th>\n",
              "      <th>year</th>\n",
              "      <th>X1</th>\n",
              "      <th>X2</th>\n",
              "      <th>X3</th>\n",
              "      <th>X4</th>\n",
              "      <th>X5</th>\n",
              "      <th>X6</th>\n",
              "      <th>X7</th>\n",
              "      <th>...</th>\n",
              "      <th>X9</th>\n",
              "      <th>X10</th>\n",
              "      <th>X11</th>\n",
              "      <th>X12</th>\n",
              "      <th>X13</th>\n",
              "      <th>X14</th>\n",
              "      <th>X15</th>\n",
              "      <th>X16</th>\n",
              "      <th>X17</th>\n",
              "      <th>X18</th>\n",
              "    </tr>\n",
              "  </thead>\n",
              "  <tbody>\n",
              "    <tr>\n",
              "      <th>0</th>\n",
              "      <td>C_1</td>\n",
              "      <td>alive</td>\n",
              "      <td>1999</td>\n",
              "      <td>511.267</td>\n",
              "      <td>833.107</td>\n",
              "      <td>18.373</td>\n",
              "      <td>89.031</td>\n",
              "      <td>336.018</td>\n",
              "      <td>35.163</td>\n",
              "      <td>128.348</td>\n",
              "      <td>...</td>\n",
              "      <td>1024.333</td>\n",
              "      <td>740.998</td>\n",
              "      <td>180.447</td>\n",
              "      <td>70.658</td>\n",
              "      <td>191.226</td>\n",
              "      <td>163.816</td>\n",
              "      <td>201.026</td>\n",
              "      <td>1024.333</td>\n",
              "      <td>401.483</td>\n",
              "      <td>935.302</td>\n",
              "    </tr>\n",
              "    <tr>\n",
              "      <th>1</th>\n",
              "      <td>C_1</td>\n",
              "      <td>alive</td>\n",
              "      <td>2000</td>\n",
              "      <td>485.856</td>\n",
              "      <td>713.811</td>\n",
              "      <td>18.577</td>\n",
              "      <td>64.367</td>\n",
              "      <td>320.590</td>\n",
              "      <td>18.531</td>\n",
              "      <td>115.187</td>\n",
              "      <td>...</td>\n",
              "      <td>874.255</td>\n",
              "      <td>701.854</td>\n",
              "      <td>179.987</td>\n",
              "      <td>45.790</td>\n",
              "      <td>160.444</td>\n",
              "      <td>125.392</td>\n",
              "      <td>204.065</td>\n",
              "      <td>874.255</td>\n",
              "      <td>361.642</td>\n",
              "      <td>809.888</td>\n",
              "    </tr>\n",
              "    <tr>\n",
              "      <th>2</th>\n",
              "      <td>C_1</td>\n",
              "      <td>alive</td>\n",
              "      <td>2001</td>\n",
              "      <td>436.656</td>\n",
              "      <td>526.477</td>\n",
              "      <td>22.496</td>\n",
              "      <td>27.207</td>\n",
              "      <td>286.588</td>\n",
              "      <td>-58.939</td>\n",
              "      <td>77.528</td>\n",
              "      <td>...</td>\n",
              "      <td>638.721</td>\n",
              "      <td>710.199</td>\n",
              "      <td>217.699</td>\n",
              "      <td>4.711</td>\n",
              "      <td>112.244</td>\n",
              "      <td>150.464</td>\n",
              "      <td>139.603</td>\n",
              "      <td>638.721</td>\n",
              "      <td>399.964</td>\n",
              "      <td>611.514</td>\n",
              "    </tr>\n",
              "    <tr>\n",
              "      <th>3</th>\n",
              "      <td>C_1</td>\n",
              "      <td>alive</td>\n",
              "      <td>2002</td>\n",
              "      <td>396.412</td>\n",
              "      <td>496.747</td>\n",
              "      <td>27.172</td>\n",
              "      <td>30.745</td>\n",
              "      <td>259.954</td>\n",
              "      <td>-12.410</td>\n",
              "      <td>66.322</td>\n",
              "      <td>...</td>\n",
              "      <td>606.337</td>\n",
              "      <td>686.621</td>\n",
              "      <td>164.658</td>\n",
              "      <td>3.573</td>\n",
              "      <td>109.590</td>\n",
              "      <td>203.575</td>\n",
              "      <td>124.106</td>\n",
              "      <td>606.337</td>\n",
              "      <td>391.633</td>\n",
              "      <td>575.592</td>\n",
              "    </tr>\n",
              "    <tr>\n",
              "      <th>4</th>\n",
              "      <td>C_1</td>\n",
              "      <td>alive</td>\n",
              "      <td>2003</td>\n",
              "      <td>432.204</td>\n",
              "      <td>523.302</td>\n",
              "      <td>26.680</td>\n",
              "      <td>47.491</td>\n",
              "      <td>247.245</td>\n",
              "      <td>3.504</td>\n",
              "      <td>104.661</td>\n",
              "      <td>...</td>\n",
              "      <td>651.958</td>\n",
              "      <td>709.292</td>\n",
              "      <td>248.666</td>\n",
              "      <td>20.811</td>\n",
              "      <td>128.656</td>\n",
              "      <td>131.261</td>\n",
              "      <td>131.884</td>\n",
              "      <td>651.958</td>\n",
              "      <td>407.608</td>\n",
              "      <td>604.467</td>\n",
              "    </tr>\n",
              "  </tbody>\n",
              "</table>\n",
              "<p>5 rows × 21 columns</p>\n",
              "</div>\n",
              "    <div class=\"colab-df-buttons\">\n",
              "\n",
              "  <div class=\"colab-df-container\">\n",
              "    <button class=\"colab-df-convert\" onclick=\"convertToInteractive('df-13b2fa68-9636-4a2a-89de-b6b0bc7ee98d')\"\n",
              "            title=\"Convert this dataframe to an interactive table.\"\n",
              "            style=\"display:none;\">\n",
              "\n",
              "  <svg xmlns=\"http://www.w3.org/2000/svg\" height=\"24px\" viewBox=\"0 -960 960 960\">\n",
              "    <path d=\"M120-120v-720h720v720H120Zm60-500h600v-160H180v160Zm220 220h160v-160H400v160Zm0 220h160v-160H400v160ZM180-400h160v-160H180v160Zm440 0h160v-160H620v160ZM180-180h160v-160H180v160Zm440 0h160v-160H620v160Z\"/>\n",
              "  </svg>\n",
              "    </button>\n",
              "\n",
              "  <style>\n",
              "    .colab-df-container {\n",
              "      display:flex;\n",
              "      gap: 12px;\n",
              "    }\n",
              "\n",
              "    .colab-df-convert {\n",
              "      background-color: #E8F0FE;\n",
              "      border: none;\n",
              "      border-radius: 50%;\n",
              "      cursor: pointer;\n",
              "      display: none;\n",
              "      fill: #1967D2;\n",
              "      height: 32px;\n",
              "      padding: 0 0 0 0;\n",
              "      width: 32px;\n",
              "    }\n",
              "\n",
              "    .colab-df-convert:hover {\n",
              "      background-color: #E2EBFA;\n",
              "      box-shadow: 0px 1px 2px rgba(60, 64, 67, 0.3), 0px 1px 3px 1px rgba(60, 64, 67, 0.15);\n",
              "      fill: #174EA6;\n",
              "    }\n",
              "\n",
              "    .colab-df-buttons div {\n",
              "      margin-bottom: 4px;\n",
              "    }\n",
              "\n",
              "    [theme=dark] .colab-df-convert {\n",
              "      background-color: #3B4455;\n",
              "      fill: #D2E3FC;\n",
              "    }\n",
              "\n",
              "    [theme=dark] .colab-df-convert:hover {\n",
              "      background-color: #434B5C;\n",
              "      box-shadow: 0px 1px 3px 1px rgba(0, 0, 0, 0.15);\n",
              "      filter: drop-shadow(0px 1px 2px rgba(0, 0, 0, 0.3));\n",
              "      fill: #FFFFFF;\n",
              "    }\n",
              "  </style>\n",
              "\n",
              "    <script>\n",
              "      const buttonEl =\n",
              "        document.querySelector('#df-13b2fa68-9636-4a2a-89de-b6b0bc7ee98d button.colab-df-convert');\n",
              "      buttonEl.style.display =\n",
              "        google.colab.kernel.accessAllowed ? 'block' : 'none';\n",
              "\n",
              "      async function convertToInteractive(key) {\n",
              "        const element = document.querySelector('#df-13b2fa68-9636-4a2a-89de-b6b0bc7ee98d');\n",
              "        const dataTable =\n",
              "          await google.colab.kernel.invokeFunction('convertToInteractive',\n",
              "                                                    [key], {});\n",
              "        if (!dataTable) return;\n",
              "\n",
              "        const docLinkHtml = 'Like what you see? Visit the ' +\n",
              "          '<a target=\"_blank\" href=https://colab.research.google.com/notebooks/data_table.ipynb>data table notebook</a>'\n",
              "          + ' to learn more about interactive tables.';\n",
              "        element.innerHTML = '';\n",
              "        dataTable['output_type'] = 'display_data';\n",
              "        await google.colab.output.renderOutput(dataTable, element);\n",
              "        const docLink = document.createElement('div');\n",
              "        docLink.innerHTML = docLinkHtml;\n",
              "        element.appendChild(docLink);\n",
              "      }\n",
              "    </script>\n",
              "  </div>\n",
              "\n",
              "\n",
              "    <div id=\"df-2f3b296f-c9cc-407a-97a2-3fa39fc49ee4\">\n",
              "      <button class=\"colab-df-quickchart\" onclick=\"quickchart('df-2f3b296f-c9cc-407a-97a2-3fa39fc49ee4')\"\n",
              "                title=\"Suggest charts\"\n",
              "                style=\"display:none;\">\n",
              "\n",
              "<svg xmlns=\"http://www.w3.org/2000/svg\" height=\"24px\"viewBox=\"0 0 24 24\"\n",
              "     width=\"24px\">\n",
              "    <g>\n",
              "        <path d=\"M19 3H5c-1.1 0-2 .9-2 2v14c0 1.1.9 2 2 2h14c1.1 0 2-.9 2-2V5c0-1.1-.9-2-2-2zM9 17H7v-7h2v7zm4 0h-2V7h2v10zm4 0h-2v-4h2v4z\"/>\n",
              "    </g>\n",
              "</svg>\n",
              "      </button>\n",
              "\n",
              "<style>\n",
              "  .colab-df-quickchart {\n",
              "      --bg-color: #E8F0FE;\n",
              "      --fill-color: #1967D2;\n",
              "      --hover-bg-color: #E2EBFA;\n",
              "      --hover-fill-color: #174EA6;\n",
              "      --disabled-fill-color: #AAA;\n",
              "      --disabled-bg-color: #DDD;\n",
              "  }\n",
              "\n",
              "  [theme=dark] .colab-df-quickchart {\n",
              "      --bg-color: #3B4455;\n",
              "      --fill-color: #D2E3FC;\n",
              "      --hover-bg-color: #434B5C;\n",
              "      --hover-fill-color: #FFFFFF;\n",
              "      --disabled-bg-color: #3B4455;\n",
              "      --disabled-fill-color: #666;\n",
              "  }\n",
              "\n",
              "  .colab-df-quickchart {\n",
              "    background-color: var(--bg-color);\n",
              "    border: none;\n",
              "    border-radius: 50%;\n",
              "    cursor: pointer;\n",
              "    display: none;\n",
              "    fill: var(--fill-color);\n",
              "    height: 32px;\n",
              "    padding: 0;\n",
              "    width: 32px;\n",
              "  }\n",
              "\n",
              "  .colab-df-quickchart:hover {\n",
              "    background-color: var(--hover-bg-color);\n",
              "    box-shadow: 0 1px 2px rgba(60, 64, 67, 0.3), 0 1px 3px 1px rgba(60, 64, 67, 0.15);\n",
              "    fill: var(--button-hover-fill-color);\n",
              "  }\n",
              "\n",
              "  .colab-df-quickchart-complete:disabled,\n",
              "  .colab-df-quickchart-complete:disabled:hover {\n",
              "    background-color: var(--disabled-bg-color);\n",
              "    fill: var(--disabled-fill-color);\n",
              "    box-shadow: none;\n",
              "  }\n",
              "\n",
              "  .colab-df-spinner {\n",
              "    border: 2px solid var(--fill-color);\n",
              "    border-color: transparent;\n",
              "    border-bottom-color: var(--fill-color);\n",
              "    animation:\n",
              "      spin 1s steps(1) infinite;\n",
              "  }\n",
              "\n",
              "  @keyframes spin {\n",
              "    0% {\n",
              "      border-color: transparent;\n",
              "      border-bottom-color: var(--fill-color);\n",
              "      border-left-color: var(--fill-color);\n",
              "    }\n",
              "    20% {\n",
              "      border-color: transparent;\n",
              "      border-left-color: var(--fill-color);\n",
              "      border-top-color: var(--fill-color);\n",
              "    }\n",
              "    30% {\n",
              "      border-color: transparent;\n",
              "      border-left-color: var(--fill-color);\n",
              "      border-top-color: var(--fill-color);\n",
              "      border-right-color: var(--fill-color);\n",
              "    }\n",
              "    40% {\n",
              "      border-color: transparent;\n",
              "      border-right-color: var(--fill-color);\n",
              "      border-top-color: var(--fill-color);\n",
              "    }\n",
              "    60% {\n",
              "      border-color: transparent;\n",
              "      border-right-color: var(--fill-color);\n",
              "    }\n",
              "    80% {\n",
              "      border-color: transparent;\n",
              "      border-right-color: var(--fill-color);\n",
              "      border-bottom-color: var(--fill-color);\n",
              "    }\n",
              "    90% {\n",
              "      border-color: transparent;\n",
              "      border-bottom-color: var(--fill-color);\n",
              "    }\n",
              "  }\n",
              "</style>\n",
              "\n",
              "      <script>\n",
              "        async function quickchart(key) {\n",
              "          const quickchartButtonEl =\n",
              "            document.querySelector('#' + key + ' button');\n",
              "          quickchartButtonEl.disabled = true;  // To prevent multiple clicks.\n",
              "          quickchartButtonEl.classList.add('colab-df-spinner');\n",
              "          try {\n",
              "            const charts = await google.colab.kernel.invokeFunction(\n",
              "                'suggestCharts', [key], {});\n",
              "          } catch (error) {\n",
              "            console.error('Error during call to suggestCharts:', error);\n",
              "          }\n",
              "          quickchartButtonEl.classList.remove('colab-df-spinner');\n",
              "          quickchartButtonEl.classList.add('colab-df-quickchart-complete');\n",
              "        }\n",
              "        (() => {\n",
              "          let quickchartButtonEl =\n",
              "            document.querySelector('#df-2f3b296f-c9cc-407a-97a2-3fa39fc49ee4 button');\n",
              "          quickchartButtonEl.style.display =\n",
              "            google.colab.kernel.accessAllowed ? 'block' : 'none';\n",
              "        })();\n",
              "      </script>\n",
              "    </div>\n",
              "\n",
              "    </div>\n",
              "  </div>\n"
            ],
            "application/vnd.google.colaboratory.intrinsic+json": {
              "type": "dataframe",
              "variable_name": "df"
            }
          },
          "metadata": {},
          "execution_count": 11
        }
      ]
    },
    {
      "cell_type": "code",
      "metadata": {
        "colab": {
          "base_uri": "https://localhost:8080/"
        },
        "id": "Q0njf69FIWjc",
        "outputId": "68694b5d-75cf-4bf9-c0f7-bdb28ee7304a"
      },
      "source": [
        "# Load df (replace with your own CSV load if needed)\n",
        "try:\n",
        "    df  # noqa: F821\n",
        "    print(\"✅ Found existing `df`.\")\n",
        "except NameError:\n",
        "    import pandas as pd\n",
        "    print(\"ℹ️ Creating a placeholder df. Replace with your real data load.\")\n",
        "    df = pd.DataFrame({\n",
        "        \"X8\":[0.1,0.2,0.3,0.4],\n",
        "        \"X17\":[1,2,3,4],\n",
        "        \"X3\":[5,6,7,8],\n",
        "        \"X11\":[0,1,0,1],\n",
        "        \"X15\":[10,11,12,13],\n",
        "        \"X1\":[2,3,4,5],\n",
        "        \"X6\":[9,8,7,6],\n",
        "        \"status_label\":[\"alive\",\"failed\",\"alive\",\"failed\"],\n",
        "    })\n",
        "print(\"df shape:\", df.shape)\n"
      ],
      "id": "Q0njf69FIWjc",
      "execution_count": 12,
      "outputs": [
        {
          "output_type": "stream",
          "name": "stdout",
          "text": [
            "✅ Found existing `df`.\n",
            "df shape: (78682, 21)\n"
          ]
        }
      ]
    },
    {
      "cell_type": "code",
      "metadata": {
        "colab": {
          "base_uri": "https://localhost:8080/"
        },
        "id": "A9ieHrjlIWjd",
        "outputId": "c9f7d1f7-b4b0-477d-d9f0-e3dddb3c7306"
      },
      "source": [
        "# Feature selection + map target\n",
        "import numpy as np, pandas as pd\n",
        "FEATURES = [\"X8\",\"X17\",\"X3\",\"X11\",\"X10\",\"X1\",\"X6\"]\n",
        "TARGET   = \"status_label\"\n",
        "if not set(FEATURES+[TARGET]).issubset(df.columns):\n",
        "    missing = list(set(FEATURES+[TARGET]) - set(df.columns))\n",
        "    raise ValueError(f\"Missing columns: {missing}\")\n",
        "df[TARGET] = df[TARGET].astype(str).str.strip().str.lower().map({\"alive\":0,\"failed\":1}).astype(int)\n",
        "X = df[FEATURES].copy()\n",
        "y = df[TARGET].copy()\n",
        "print(\"y ratio:\", dict(pd.Series(y).value_counts(normalize=True).round(3)))\n"
      ],
      "id": "A9ieHrjlIWjd",
      "execution_count": 13,
      "outputs": [
        {
          "output_type": "stream",
          "name": "stdout",
          "text": [
            "y ratio: {0: np.float64(0.934), 1: np.float64(0.066)}\n"
          ]
        }
      ]
    },
    {
      "cell_type": "code",
      "metadata": {
        "id": "KNcNfV70IWjd"
      },
      "source": [
        "# Imports\n",
        "import warnings; warnings.filterwarnings(\"ignore\")\n",
        "import matplotlib.pyplot as plt\n",
        "from abc import ABC, abstractmethod\n",
        "from sklearn.model_selection import train_test_split\n",
        "from sklearn.preprocessing import StandardScaler\n",
        "from sklearn.pipeline import Pipeline\n",
        "from sklearn.linear_model import LogisticRegression, Perceptron\n",
        "from sklearn.tree import DecisionTreeClassifier\n",
        "from sklearn.ensemble import RandomForestClassifier\n",
        "from sklearn.naive_bayes import GaussianNB\n",
        "from sklearn.svm import SVC\n",
        "from sklearn.neural_network import MLPClassifier\n",
        "from sklearn.cluster import KMeans, AgglomerativeClustering\n",
        "from sklearn.decomposition import PCA\n",
        "from sklearn.metrics import accuracy_score, confusion_matrix, roc_auc_score, f1_score, precision_score, recall_score, roc_curve, auc\n",
        "RANDOM_STATE = 42\n"
      ],
      "id": "KNcNfV70IWjd",
      "execution_count": 14,
      "outputs": []
    },
    {
      "cell_type": "code",
      "metadata": {
        "id": "ewwISeyPIWjd"
      },
      "source": [
        "# OOP classes\n",
        "class BaseModel(ABC):\n",
        "    def __init__(self, X, y, model_params=None, random_state=42):\n",
        "        import pandas as pd\n",
        "        from sklearn.preprocessing import StandardScaler\n",
        "        self.X, self.y = X, y\n",
        "        self.random_state = random_state\n",
        "        self.model = None\n",
        "        self.model_params = model_params or {}\n",
        "        self.X_train = self.X_test = self.y_train = self.y_test = None\n",
        "        self.scaler = StandardScaler()\n",
        "        self.history = None\n",
        "        self.is_fitted = False\n",
        "    def split_data(self, test_size=0.2, scale=True):\n",
        "        from sklearn.model_selection import train_test_split\n",
        "        Xtr, Xte, ytr, yte = train_test_split(self.X, self.y, test_size=test_size, random_state=self.random_state, stratify=self.y)\n",
        "        if scale:\n",
        "            import pandas as pd\n",
        "            self.X_train = pd.DataFrame(self.scaler.fit_transform(Xtr), columns=Xtr.columns)\n",
        "            self.X_test  = pd.DataFrame(self.scaler.transform(Xte), columns=Xte.columns)\n",
        "        else:\n",
        "            self.X_train, self.X_test = Xtr, Xte\n",
        "        self.y_train, self.y_test = ytr, yte\n",
        "    @abstractmethod\n",
        "    def build_model(self): ...\n",
        "    def fit(self):\n",
        "        if self.X_train is None: raise ValueError(\"Call split_data() first.\")\n",
        "        self.build_model()\n",
        "        self.model.fit(self.X_train, self.y_train)\n",
        "        self.is_fitted = True\n",
        "        if hasattr(self.model, \"loss_curve_\"):\n",
        "            self.history = {\"loss_curve\": self.model.loss_curve_}\n",
        "        print(f\"✅ {self.__class__.__name__} trained.\")\n",
        "    def evaluate(self):\n",
        "        import numpy as np\n",
        "        from sklearn.metrics import confusion_matrix, accuracy_score, precision_score, f1_score, roc_auc_score\n",
        "        if isinstance(self.model, (KMeans, AgglomerativeClustering)):\n",
        "            return {\"Note\": \"Unsupervised Model: Use specific clustering metrics.\"}\n",
        "        if self.y_test is None or not self.is_fitted:\n",
        "            return {\"Error\": \"Model not fitted or Test data not available.\"}\n",
        "        y_pred = self.model.predict(self.X_test)\n",
        "        if len(np.unique(self.y_test)) == 2:\n",
        "            tn, fp, fn, tp = confusion_matrix(self.y_test, y_pred).ravel()\n",
        "            sensitivity = tp / (tp + fn) if (tp + fn) else 0.0\n",
        "            specificity = tn / (tn + fp) if (tn + fp) else 0.0\n",
        "            res = {\n",
        "                \"Loss (MLP only)\": getattr(self.model, \"loss_\", \"N/A\"),\n",
        "                \"Confusion Matrix\": [[int(tn), int(fp)],[int(fn), int(tp)]],\n",
        "                \"Accuracy\": accuracy_score(self.y_test, y_pred),\n",
        "                \"Precision\": precision_score(self.y_test, y_pred, zero_division=0),\n",
        "                \"Sensitivity (Recall)\": sensitivity,\n",
        "                \"Specificity (TNR)\": specificity,\n",
        "                \"F1-score\": f1_score(self.y_test, y_pred, zero_division=0),\n",
        "                \"ROC AUC\": \"N/A\",\n",
        "            }\n",
        "            if hasattr(self.model, \"predict_proba\"):\n",
        "                y_proba = self.model.predict_proba(self.X_test)[:,1]\n",
        "                res[\"ROC AUC\"] = roc_auc_score(self.y_test, y_proba)\n",
        "            return res\n",
        "        else:\n",
        "            return {\"Accuracy\": accuracy_score(self.y_test, y_pred)}\n",
        "    def plot_roc(self, ax=None, label_prefix=\"\"):\n",
        "        from sklearn.metrics import roc_curve, auc\n",
        "        if not hasattr(self.model, \"predict_proba\") or self.y_test is None:\n",
        "            return\n",
        "        y_proba = self.model.predict_proba(self.X_test)[:,1]\n",
        "        fpr, tpr, _ = roc_curve(self.y_test, y_proba)\n",
        "        roc_auc = auc(fpr, tpr)\n",
        "        if ax is None:\n",
        "            fig, ax = plt.subplots(1,1)\n",
        "        ax.plot(fpr, tpr, label=f\"{label_prefix} (AUC={roc_auc:.4f})\")\n",
        "        ax.plot([0,1],[0,1],\"r--\")\n",
        "\n",
        "class LogisticRegressionModel(BaseModel):\n",
        "    def build_model(self): self.model = LogisticRegression(random_state=self.random_state, **self.model_params)\n",
        "class DecisionTreeModel(BaseModel):\n",
        "    def build_model(self): self.model = DecisionTreeClassifier(random_state=self.random_state, **self.model_params)\n",
        "class RandomForestModel(BaseModel):\n",
        "    def build_model(self): self.model = RandomForestClassifier(random_state=self.random_state, **self.model_params)\n",
        "class NaiveBayesModel(BaseModel):\n",
        "    def build_model(self): self.model = GaussianNB(**self.model_params)\n",
        "class SupportVectorMachineModel(BaseModel):\n",
        "    def build_model(self): self.model = SVC(random_state=self.random_state, probability=True, **self.model_params)\n",
        "class PerceptronModel(BaseModel):\n",
        "    def build_model(self): self.model = Perceptron(random_state=self.random_state, **self.model_params)\n",
        "class MLPModel(BaseModel):\n",
        "    def build_model(self): self.model = MLPClassifier(random_state=self.random_state, **self.model_params)\n",
        "class KMeanClustering(BaseModel):\n",
        "    def build_model(self):\n",
        "        n_clusters = self.model_params.pop(\"n_clusters\", 2)\n",
        "        self.model = KMeans(n_clusters=n_clusters, random_state=self.random_state, n_init=10, **self.model_params)\n",
        "    def fit(self):\n",
        "        if self.X_train is None: raise ValueError(\"Data not split.\")\n",
        "        self.build_model(); self.model.fit(self.X_train); self.is_fitted=True; print(f\"✅ {self.__class__.__name__} trained.\")\n",
        "class AgglomerativeClusteringModel(BaseModel):\n",
        "    def build_model(self):\n",
        "        n_clusters = self.model_params.pop(\"n_clusters\", 2)\n",
        "        self.model = AgglomerativeClustering(n_clusters=n_clusters, **self.model_params)\n",
        "    def fit(self):\n",
        "        if self.X_train is None: raise ValueError(\"Data not split.\")\n",
        "        self.build_model(); self.model.fit(self.X_train); self.is_fitted=True; print(f\"✅ {self.__class__.__name__} trained.\")\n",
        "class ReducedClassifierModel(BaseModel):\n",
        "    def __init__(self, X, y, classifier_class, n_components, model_params=None, random_state=42):\n",
        "        super().__init__(X, y, model_params, random_state); self.classifier_class=classifier_class; self.n_components=n_components\n",
        "    def build_model(self):\n",
        "        pca = PCA(n_components=self.n_components, random_state=self.random_state)\n",
        "        if self.classifier_class == SVC:\n",
        "            clf = SVC(random_state=self.random_state, probability=True, **self.model_params)\n",
        "        else:\n",
        "            clf = self.classifier_class(random_state=self.random_state, **self.model_params)\n",
        "        self.model = Pipeline([(\"pca\", pca), (\"classifier\", clf)])\n"
      ],
      "id": "ewwISeyPIWjd",
      "execution_count": 15,
      "outputs": []
    },
    {
      "cell_type": "code",
      "metadata": {
        "id": "GFVZnB4AIWjd"
      },
      "source": [
        "# Controller\n",
        "class ModelController:\n",
        "    def __init__(self, X, y, test_size=0.2, random_state=42):\n",
        "        self.X, self.y = X, y\n",
        "        self.test_size, self.random_state = test_size, random_state\n",
        "        self.models = self._initialize_models()\n",
        "        self.results = {}\n",
        "    def _initialize_models(self):\n",
        "        svm_params  = {\"C\":10, \"gamma\":\"auto\", \"class_weight\":\"balanced\"}\n",
        "        rf_params   = {\"n_estimators\":150, \"class_weight\":\"balanced_subsample\"}\n",
        "        lr_params   = {\"class_weight\":\"balanced\"}\n",
        "        dt_params   = {\"class_weight\":\"balanced\"}\n",
        "        perc_params = {\"class_weight\":\"balanced\"}\n",
        "        mlp_params  = {\"hidden_layer_sizes\":(50,), \"max_iter\":500}\n",
        "        return {\n",
        "            \"Logistic Regression\": LogisticRegressionModel(self.X, self.y, model_params=lr_params),\n",
        "            \"Decision Tree\": DecisionTreeModel(self.X, self.y, model_params=dt_params),\n",
        "            \"Random Forest\": RandomForestModel(self.X, self.y, model_params=rf_params),\n",
        "            \"Naïve Bayesian\": NaiveBayesModel(self.X, self.y),\n",
        "            \"Support Vector Machine\": SupportVectorMachineModel(self.X, self.y, model_params=svm_params),\n",
        "            \"Perceptron (SLP)\": PerceptronModel(self.X, self.y, model_params=perc_params),\n",
        "            \"Multi-layer Perceptron (MLP)\": MLPModel(self.X, self.y, model_params=mlp_params),\n",
        "            \"PCA(5) + RF\": ReducedClassifierModel(self.X, self.y, RandomForestClassifier, n_components=5, model_params=rf_params),\n",
        "            \"PCA(5) + SVM\": ReducedClassifierModel(self.X, self.y, SVC, n_components=5, model_params=svm_params),\n",
        "            \"K-Means Clustering (k=2)\": KMeanClustering(self.X, self.y, model_params={\"n_clusters\":2}),\n",
        "            \"Agglomerative Clustering (k=2)\": AgglomerativeClusteringModel(self.X, self.y, model_params={\"n_clusters\":2}),\n",
        "        }\n",
        "    def show_benchmarking(self):\n",
        "        import pandas as pd\n",
        "        classification = {k:v for k,v in self.results.items() if isinstance(v, dict) and ('Accuracy' in v or 'ROC AUC' in v)}\n",
        "        if not classification:\n",
        "            print(\"No classification results.\"); return\n",
        "        df_results = pd.DataFrame.from_dict(classification, orient=\"index\")\n",
        "        metrics_order = [\"Accuracy\",\"ROC AUC\",\"F1-score\",\"Precision\",\"Sensitivity (Recall)\",\"Specificity (TNR)\"]\n",
        "        cols = [m for m in metrics_order if m in df_results.columns]\n",
        "        print(df_results[cols].sort_values(by=\"Accuracy\", ascending=False).to_string(float_format=\"{:.4f}\".format))\n",
        "    def plot_all_roc(self):\n",
        "        fig = plt.figure(figsize=(12,8)); ax = plt.gca(); plotted=False\n",
        "        for name,m in self.models.items():\n",
        "            res = self.results.get(name, {})\n",
        "            if isinstance(m,(KMeanClustering,AgglomerativeClusteringModel)): continue\n",
        "            if res.get(\"ROC AUC\") in (\"N/A\",None): continue\n",
        "            try: m.plot_roc(ax=ax, label_prefix=name); plotted=True\n",
        "            except: pass\n",
        "        if plotted:\n",
        "            ax.set_title(\"ROC Curve Comparison\"); ax.set_xlabel(\"FPR\"); ax.set_ylabel(\"TPR\"); ax.legend(loc=\"lower right\")\n",
        "        else:\n",
        "            print(\"No ROC Curves available.\")\n",
        "    def plot_loss_curves(self):\n",
        "        fig = plt.figure(figsize=(8,6)); ax = plt.gca(); found=False\n",
        "        for name,m in self.models.items():\n",
        "            if isinstance(m, MLPModel) and hasattr(m.model,\"loss_curve_\") and m.model.loss_curve_ is not None:\n",
        "                m.plot_performance_curve(ax=ax, label_prefix=name); found=True\n",
        "        if found: ax.set_title(\"MLP Loss vs Epochs\")\n",
        "        else: print(\"No MLP loss curve.\")\n"
      ],
      "id": "GFVZnB4AIWjd",
      "execution_count": 16,
      "outputs": []
    },
    {
      "cell_type": "code",
      "metadata": {
        "colab": {
          "base_uri": "https://localhost:8080/"
        },
        "id": "Z1q-KeyiIWje",
        "outputId": "d7da9cda-edb1-4a5b-b7c5-1e86608588a9"
      },
      "source": [
        "# Init controller\n",
        "controller = ModelController(X=X, y=y, test_size=0.2, random_state=RANDOM_STATE)\n",
        "list(controller.models.keys())\n"
      ],
      "id": "Z1q-KeyiIWje",
      "execution_count": 17,
      "outputs": [
        {
          "output_type": "execute_result",
          "data": {
            "text/plain": [
              "['Logistic Regression',\n",
              " 'Decision Tree',\n",
              " 'Random Forest',\n",
              " 'Naïve Bayesian',\n",
              " 'Support Vector Machine',\n",
              " 'Perceptron (SLP)',\n",
              " 'Multi-layer Perceptron (MLP)',\n",
              " 'PCA(5) + RF',\n",
              " 'PCA(5) + SVM',\n",
              " 'K-Means Clustering (k=2)',\n",
              " 'Agglomerative Clustering (k=2)']"
            ]
          },
          "metadata": {},
          "execution_count": 17
        }
      ]
    },
    {
      "cell_type": "code",
      "metadata": {
        "colab": {
          "base_uri": "https://localhost:8080/"
        },
        "id": "q-bWR8G2IWje",
        "outputId": "5129d097-94fa-46f3-96c7-ccc2936dee4b"
      },
      "source": [
        "# Split once & share\n",
        "X_train_raw, X_test_raw, y_train, y_test = train_test_split(\n",
        "    controller.X, controller.y, test_size=controller.test_size,\n",
        "    random_state=controller.random_state, stratify=controller.y\n",
        ")\n",
        "scaler = StandardScaler()\n",
        "X_train = pd.DataFrame(scaler.fit_transform(X_train_raw), columns=X_train_raw.columns)\n",
        "X_test  = pd.DataFrame(scaler.transform(X_test_raw), columns=X_test_raw.columns)\n",
        "shared_split = {\"X_train\": X_train, \"X_test\": X_test, \"y_train\": y_train, \"y_test\": y_test}\n",
        "print(\"Before rebalance:\", dict(y_train.value_counts(normalize=True).round(3)))\n"
      ],
      "id": "q-bWR8G2IWje",
      "execution_count": 18,
      "outputs": [
        {
          "output_type": "stream",
          "name": "stdout",
          "text": [
            "Before rebalance: {0: np.float64(0.934), 1: np.float64(0.066)}\n"
          ]
        }
      ]
    },
    {
      "cell_type": "code",
      "metadata": {
        "colab": {
          "base_uri": "https://localhost:8080/"
        },
        "id": "Hm47Cd9QIWje",
        "outputId": "9d81d414-b2ce-4663-da90-5d5a1f983635"
      },
      "source": [
        "# Rebalance (undersample/oversample/hybrid)\n",
        "import pandas as pd, numpy as np\n",
        "def rebalance_train(X, y, method=\"undersample\", ratio=1.0, random_state=42):\n",
        "    Xy = X.copy(); Xy[\"__y__\"] = y.values\n",
        "    df0, df1 = Xy[Xy[\"__y__\"]==0], Xy[Xy[\"__y__\"]==1]\n",
        "    n0, n1 = len(df0), len(df1)\n",
        "    if method==\"undersample\":\n",
        "        n0_keep = max(int(n1/ratio),1); n0_keep=min(n0_keep,n0)\n",
        "        df0_bal = df0.sample(n=n0_keep, random_state=random_state, replace=False); df1_bal=df1\n",
        "    elif method==\"oversample\":\n",
        "        n1_make = max(int(n0*ratio),1)\n",
        "        df1_bal = df1.sample(n=n1_make, random_state=random_state, replace=True); df0_bal=df0\n",
        "    elif method==\"hybrid\":\n",
        "        n1_target = max(int(n0*ratio),1)\n",
        "        df1_os = df1.sample(n=n1_target, random_state=random_state, replace=True) if n1 < n1_target else df1\n",
        "        n0_keep = min(len(df0), len(df1_os))\n",
        "        df0_us = df0.sample(n=n0_keep, random_state=random_state, replace=False)\n",
        "        df0_bal, df1_bal = df0_us, df1_os\n",
        "    else:\n",
        "        raise ValueError(\"Unknown method\")\n",
        "    df_bal = pd.concat([df0_bal, df1_bal]).sample(frac=1.0, random_state=random_state).reset_index(drop=True)\n",
        "    X_bal = df_bal.drop(columns=[\"__y__\"]); y_bal = df_bal[\"__y__\"].astype(int)\n",
        "    return X_bal, y_bal\n",
        "\n",
        "METHOD=\"undersample\"; RATIO=1.0  # 1.0 -> 1:1\n",
        "Xb, yb = rebalance_train(shared_split[\"X_train\"], shared_split[\"y_train\"], method=METHOD, ratio=RATIO, random_state=RANDOM_STATE)\n",
        "shared_split[\"X_train\"], shared_split[\"y_train\"] = Xb, yb\n",
        "print(\"After rebalance:\", dict(yb.value_counts(normalize=True).round(3)))\n"
      ],
      "id": "Hm47Cd9QIWje",
      "execution_count": 19,
      "outputs": [
        {
          "output_type": "stream",
          "name": "stdout",
          "text": [
            "After rebalance: {0: np.float64(0.5), 1: np.float64(0.5)}\n"
          ]
        }
      ]
    },
    {
      "cell_type": "code",
      "metadata": {
        "colab": {
          "base_uri": "https://localhost:8080/"
        },
        "id": "3NWbjd6cIWje",
        "outputId": "ad33094f-0e89-472d-e865-d2fc5248a9db"
      },
      "source": [
        "# --- Logistic Regression ---\n",
        "m = controller.models[\"Logistic Regression\"]\n",
        "m.X_train, m.X_test = shared_split[\"X_train\"], shared_split[\"X_test\"]\n",
        "m.y_train, m.y_test = shared_split[\"y_train\"], shared_split[\"y_test\"]\n",
        "m.fit()\n",
        "controller.results[\"Logistic Regression\"] = m.evaluate()\n",
        "print(controller.results[\"Logistic Regression\"])\n"
      ],
      "id": "3NWbjd6cIWje",
      "execution_count": 20,
      "outputs": [
        {
          "output_type": "stream",
          "name": "stdout",
          "text": [
            "✅ LogisticRegressionModel trained.\n",
            "{'Loss (MLP only)': 'N/A', 'Confusion Matrix': [[4766, 9927], [139, 905]], 'Accuracy': 0.36036093283344983, 'Precision': 0.08354874446085672, 'Sensitivity (Recall)': np.float64(0.8668582375478927), 'Specificity (TNR)': np.float64(0.32437215000340297), 'F1-score': 0.15240821825530482, 'ROC AUC': np.float64(0.675545643884426)}\n"
          ]
        }
      ]
    },
    {
      "cell_type": "code",
      "metadata": {
        "colab": {
          "base_uri": "https://localhost:8080/"
        },
        "id": "TkeUFUh2IWje",
        "outputId": "02698d68-fb39-4dae-efa4-1548b938d279"
      },
      "source": [
        "# --- Decision Tree ---\n",
        "m = controller.models[\"Decision Tree\"]\n",
        "m.X_train, m.X_test = shared_split[\"X_train\"], shared_split[\"X_test\"]\n",
        "m.y_train, m.y_test = shared_split[\"y_train\"], shared_split[\"y_test\"]\n",
        "m.fit()\n",
        "controller.results[\"Decision Tree\"] = m.evaluate()\n",
        "print(controller.results[\"Decision Tree\"])\n"
      ],
      "id": "TkeUFUh2IWje",
      "execution_count": 21,
      "outputs": [
        {
          "output_type": "stream",
          "name": "stdout",
          "text": [
            "✅ DecisionTreeModel trained.\n",
            "{'Loss (MLP only)': 'N/A', 'Confusion Matrix': [[8909, 5784], [380, 664]], 'Accuracy': 0.6083116222914151, 'Precision': 0.10297766749379653, 'Sensitivity (Recall)': np.float64(0.6360153256704981), 'Specificity (TNR)': np.float64(0.6063431566051861), 'F1-score': 0.17725573945541911, 'ROC AUC': np.float64(0.6211792411378421)}\n"
          ]
        }
      ]
    },
    {
      "cell_type": "code",
      "metadata": {
        "colab": {
          "base_uri": "https://localhost:8080/"
        },
        "id": "il7ImRkoIWje",
        "outputId": "b655c31e-96b7-41bb-e4da-0dca4dd86502"
      },
      "source": [
        "# --- Random Forest ---\n",
        "m = controller.models[\"Random Forest\"]\n",
        "m.X_train, m.X_test = shared_split[\"X_train\"], shared_split[\"X_test\"]\n",
        "m.y_train, m.y_test = shared_split[\"y_train\"], shared_split[\"y_test\"]\n",
        "m.fit()\n",
        "controller.results[\"Random Forest\"] = m.evaluate()\n",
        "print(controller.results[\"Random Forest\"])\n"
      ],
      "id": "il7ImRkoIWje",
      "execution_count": 22,
      "outputs": [
        {
          "output_type": "stream",
          "name": "stdout",
          "text": [
            "✅ RandomForestModel trained.\n",
            "{'Loss (MLP only)': 'N/A', 'Confusion Matrix': [[9947, 4746], [319, 725]], 'Accuracy': 0.6781470420029231, 'Precision': 0.13251690732955584, 'Sensitivity (Recall)': np.float64(0.6944444444444444), 'Specificity (TNR)': np.float64(0.6769890424011434), 'F1-score': 0.22256331542594013, 'ROC AUC': np.float64(0.7534236792196247)}\n"
          ]
        }
      ]
    },
    {
      "cell_type": "code",
      "metadata": {
        "colab": {
          "base_uri": "https://localhost:8080/"
        },
        "id": "fCf3ux36IWje",
        "outputId": "4addcaeb-cf24-4a13-aab4-440a186ce9a6"
      },
      "source": [
        "# --- Naïve Bayesian ---\n",
        "m = controller.models[\"Naïve Bayesian\"]\n",
        "m.X_train, m.X_test = shared_split[\"X_train\"], shared_split[\"X_test\"]\n",
        "m.y_train, m.y_test = shared_split[\"y_train\"], shared_split[\"y_test\"]\n",
        "m.fit()\n",
        "controller.results[\"Naïve Bayesian\"] = m.evaluate()\n",
        "print(controller.results[\"Naïve Bayesian\"])\n"
      ],
      "id": "fCf3ux36IWje",
      "execution_count": 23,
      "outputs": [
        {
          "output_type": "stream",
          "name": "stdout",
          "text": [
            "✅ NaiveBayesModel trained.\n",
            "{'Loss (MLP only)': 'N/A', 'Confusion Matrix': [[1198, 13495], [43, 1001]], 'Accuracy': 0.13973438393594714, 'Precision': 0.06905353200883002, 'Sensitivity (Recall)': np.float64(0.9588122605363985), 'Specificity (TNR)': np.float64(0.08153542503232832), 'F1-score': 0.12882882882882882, 'ROC AUC': np.float64(0.5650794367896929)}\n"
          ]
        }
      ]
    },
    {
      "cell_type": "code",
      "metadata": {
        "colab": {
          "base_uri": "https://localhost:8080/"
        },
        "id": "UhfxdTfrIWje",
        "outputId": "c2a012f8-da5b-40d7-9be6-84214a215912"
      },
      "source": [
        "# --- Support Vector Machine ---\n",
        "m = controller.models[\"Support Vector Machine\"]\n",
        "m.X_train, m.X_test = shared_split[\"X_train\"], shared_split[\"X_test\"]\n",
        "m.y_train, m.y_test = shared_split[\"y_train\"], shared_split[\"y_test\"]\n",
        "m.fit()\n",
        "controller.results[\"Support Vector Machine\"] = m.evaluate()\n",
        "print(controller.results[\"Support Vector Machine\"])\n"
      ],
      "id": "UhfxdTfrIWje",
      "execution_count": 24,
      "outputs": [
        {
          "output_type": "stream",
          "name": "stdout",
          "text": [
            "✅ SupportVectorMachineModel trained.\n",
            "{'Loss (MLP only)': 'N/A', 'Confusion Matrix': [[4073, 10620], [112, 932]], 'Accuracy': 0.3180402872211984, 'Precision': 0.08067867036011081, 'Sensitivity (Recall)': np.float64(0.89272030651341), 'Specificity (TNR)': np.float64(0.2772068331858708), 'F1-score': 0.1479834868212131, 'ROC AUC': np.float64(0.6703227199440502)}\n"
          ]
        }
      ]
    },
    {
      "cell_type": "code",
      "metadata": {
        "colab": {
          "base_uri": "https://localhost:8080/"
        },
        "id": "o7EApX-_IWje",
        "outputId": "6454a0fc-cf20-4af9-bb25-161b2bab6e3b"
      },
      "source": [
        "# --- Perceptron (SLP) ---\n",
        "m = controller.models[\"Perceptron (SLP)\"]\n",
        "m.X_train, m.X_test = shared_split[\"X_train\"], shared_split[\"X_test\"]\n",
        "m.y_train, m.y_test = shared_split[\"y_train\"], shared_split[\"y_test\"]\n",
        "m.fit()\n",
        "controller.results[\"Perceptron (SLP)\"] = m.evaluate()\n",
        "print(controller.results[\"Perceptron (SLP)\"])\n"
      ],
      "id": "o7EApX-_IWje",
      "execution_count": 25,
      "outputs": [
        {
          "output_type": "stream",
          "name": "stdout",
          "text": [
            "✅ PerceptronModel trained.\n",
            "{'Loss (MLP only)': 'N/A', 'Confusion Matrix': [[11322, 3371], [559, 485]], 'Accuracy': 0.750270064179958, 'Precision': 0.12577800829875518, 'Sensitivity (Recall)': np.float64(0.46455938697318006), 'Specificity (TNR)': np.float64(0.7705710202137072), 'F1-score': 0.19795918367346937, 'ROC AUC': 'N/A'}\n"
          ]
        }
      ]
    },
    {
      "cell_type": "code",
      "metadata": {
        "colab": {
          "base_uri": "https://localhost:8080/"
        },
        "id": "2Fh0NpTKIWje",
        "outputId": "773cdba5-66f2-4b92-bab7-2c368ef70ba3"
      },
      "source": [
        "# --- Multi-layer Perceptron (MLP) ---\n",
        "m = controller.models[\"Multi-layer Perceptron (MLP)\"]\n",
        "m.X_train, m.X_test = shared_split[\"X_train\"], shared_split[\"X_test\"]\n",
        "m.y_train, m.y_test = shared_split[\"y_train\"], shared_split[\"y_test\"]\n",
        "m.fit()\n",
        "controller.results[\"Multi-layer Perceptron (MLP)\"] = m.evaluate()\n",
        "print(controller.results[\"Multi-layer Perceptron (MLP)\"])\n"
      ],
      "id": "2Fh0NpTKIWje",
      "execution_count": 26,
      "outputs": [
        {
          "output_type": "stream",
          "name": "stdout",
          "text": [
            "✅ MLPModel trained.\n",
            "{'Loss (MLP only)': np.float64(0.6265150640715466), 'Confusion Matrix': [[7386, 7307], [283, 761]], 'Accuracy': 0.5176971468513694, 'Precision': 0.09432325235498265, 'Sensitivity (Recall)': np.float64(0.7289272030651341), 'Specificity (TNR)': np.float64(0.5026883549989791), 'F1-score': 0.1670324846356453, 'ROC AUC': np.float64(0.6831899648306476)}\n"
          ]
        }
      ]
    },
    {
      "cell_type": "code",
      "metadata": {
        "colab": {
          "base_uri": "https://localhost:8080/"
        },
        "id": "BFICHQ2MIWje",
        "outputId": "dbf7af3a-7d51-4b70-fea2-ce73ca8292b4"
      },
      "source": [
        "# --- PCA(5) + RF ---\n",
        "m = controller.models[\"PCA(5) + RF\"]\n",
        "m.X_train, m.X_test = shared_split[\"X_train\"], shared_split[\"X_test\"]\n",
        "m.y_train, m.y_test = shared_split[\"y_train\"], shared_split[\"y_test\"]\n",
        "m.fit()\n",
        "controller.results[\"PCA(5) + RF\"] = m.evaluate()\n",
        "print(controller.results[\"PCA(5) + RF\"])\n"
      ],
      "id": "BFICHQ2MIWje",
      "execution_count": 27,
      "outputs": [
        {
          "output_type": "stream",
          "name": "stdout",
          "text": [
            "✅ ReducedClassifierModel trained.\n",
            "{'Loss (MLP only)': 'N/A', 'Confusion Matrix': [[9386, 5307], [348, 696]], 'Accuracy': 0.6406557793734511, 'Precision': 0.11594202898550725, 'Sensitivity (Recall)': np.float64(0.6666666666666666), 'Specificity (TNR)': np.float64(0.6388075954536173), 'F1-score': 0.19753086419753085, 'ROC AUC': np.float64(0.7086472289955886)}\n"
          ]
        }
      ]
    },
    {
      "cell_type": "code",
      "metadata": {
        "colab": {
          "base_uri": "https://localhost:8080/"
        },
        "id": "7CubT0ITIWjf",
        "outputId": "430d64e7-799e-42e2-88ca-ec49c06f0dfc"
      },
      "source": [
        "# --- PCA(5) + SVM ---\n",
        "m = controller.models[\"PCA(5) + SVM\"]\n",
        "m.X_train, m.X_test = shared_split[\"X_train\"], shared_split[\"X_test\"]\n",
        "m.y_train, m.y_test = shared_split[\"y_train\"], shared_split[\"y_test\"]\n",
        "m.fit()\n",
        "controller.results[\"PCA(5) + SVM\"] = m.evaluate()\n",
        "print(controller.results[\"PCA(5) + SVM\"])\n"
      ],
      "id": "7CubT0ITIWjf",
      "execution_count": 28,
      "outputs": [
        {
          "output_type": "stream",
          "name": "stdout",
          "text": [
            "✅ ReducedClassifierModel trained.\n",
            "{'Loss (MLP only)': 'N/A', 'Confusion Matrix': [[4333, 10360], [136, 908]], 'Accuracy': 0.3330367922729872, 'Precision': 0.08058217962371317, 'Sensitivity (Recall)': np.float64(0.8697318007662835), 'Specificity (TNR)': np.float64(0.2949023344449738), 'F1-score': 0.147498375568551, 'ROC AUC': np.float64(0.6718376332149723)}\n"
          ]
        }
      ]
    },
    {
      "cell_type": "code",
      "metadata": {
        "colab": {
          "base_uri": "https://localhost:8080/"
        },
        "id": "_ZzMTiEEIWjf",
        "outputId": "0474f740-c71e-485a-af72-bcba9e70e47a"
      },
      "source": [
        "# --- K-Means Clustering (k=2) ---\n",
        "m = controller.models[\"K-Means Clustering (k=2)\"]\n",
        "m.X_train, m.X_test = shared_split[\"X_train\"], shared_split[\"X_test\"]\n",
        "m.y_train, m.y_test = shared_split[\"y_train\"], shared_split[\"y_test\"]\n",
        "m.fit()\n",
        "controller.results[\"K-Means Clustering (k=2)\"] = m.evaluate()\n",
        "print(controller.results[\"K-Means Clustering (k=2)\"])\n"
      ],
      "id": "_ZzMTiEEIWjf",
      "execution_count": 29,
      "outputs": [
        {
          "output_type": "stream",
          "name": "stdout",
          "text": [
            "✅ KMeanClustering trained.\n",
            "{'Note': 'Unsupervised Model: Use specific clustering metrics.'}\n"
          ]
        }
      ]
    },
    {
      "cell_type": "code",
      "metadata": {
        "colab": {
          "base_uri": "https://localhost:8080/"
        },
        "id": "nOLS9IDuIWjf",
        "outputId": "41279103-604a-425e-9e4e-b04c4e9c77bd"
      },
      "source": [
        "# --- Agglomerative Clustering (k=2) ---\n",
        "m = controller.models[\"Agglomerative Clustering (k=2)\"]\n",
        "m.X_train, m.X_test = shared_split[\"X_train\"], shared_split[\"X_test\"]\n",
        "m.y_train, m.y_test = shared_split[\"y_train\"], shared_split[\"y_test\"]\n",
        "m.fit()\n",
        "controller.results[\"Agglomerative Clustering (k=2)\"] = m.evaluate()\n",
        "print(controller.results[\"Agglomerative Clustering (k=2)\"])\n"
      ],
      "id": "nOLS9IDuIWjf",
      "execution_count": 30,
      "outputs": [
        {
          "output_type": "stream",
          "name": "stdout",
          "text": [
            "✅ AgglomerativeClusteringModel trained.\n",
            "{'Note': 'Unsupervised Model: Use specific clustering metrics.'}\n"
          ]
        }
      ]
    },
    {
      "cell_type": "code",
      "metadata": {
        "id": "GAzRsK9_IWjf"
      },
      "source": [
        "# Threshold tuning helpers\n",
        "import numpy as np\n",
        "from sklearn.metrics import precision_recall_fscore_support, confusion_matrix\n",
        "def find_best_threshold(y_true, y_proba, metric=\"f1\"):\n",
        "    y_true = np.asarray(y_true).astype(int)\n",
        "    thresholds = np.linspace(0.01, 0.99, 99)\n",
        "    best_t, best_val = 0.5, -1.0\n",
        "    want_recall_at_prec = metric.startswith(\"recall@prec>=\")\n",
        "    prec_floor = None\n",
        "    if want_recall_at_prec:\n",
        "        prec_floor = float(metric.split(\">=\")[1])\n",
        "    for t in thresholds:\n",
        "        y_hat = (y_proba >= t).astype(int)\n",
        "        p, r, f1, _ = precision_recall_fscore_support(y_true, y_hat, average=\"binary\", zero_division=0)\n",
        "        val = f1 if metric==\"f1\" else (r if (want_recall_at_prec and p>=prec_floor) else -1.0)\n",
        "        if val > best_val:\n",
        "            best_val, best_t = val, t\n",
        "    return best_t, best_val\n",
        "\n",
        "def evaluate_at_threshold(y_true, y_proba, threshold):\n",
        "    y_pred = (y_proba >= threshold).astype(int)\n",
        "    cm = confusion_matrix(y_true, y_pred)\n",
        "    tn, fp, fn, tp = cm.ravel()\n",
        "    acc = (tp+tn)/cm.sum()\n",
        "    prec = tp/(tp+fp) if (tp+fp) else 0.0\n",
        "    rec  = tp/(tp+fn) if (tp+fn) else 0.0\n",
        "    f1   = 2*prec*rec/(prec+rec) if (prec+rec) else 0.0\n",
        "    return {\"threshold\": float(threshold), \"cm\": cm.tolist(), \"accuracy\": float(acc), \"precision\": float(prec), \"recall\": float(rec), \"f1\": float(f1)}\n",
        "\n",
        "# Example:\n",
        "# name = \"Random Forest\"\n",
        "# m = controller.models[name]\n",
        "# y_proba = m.model.predict_proba(shared_split[\"X_test\"])[:,1]\n",
        "# t_best, val = find_best_threshold(shared_split[\"y_test\"], y_proba, metric=\"f1\")\n",
        "# print(\"best threshold:\", t_best, \"score:\", val)\n",
        "# print(\"default 0.50:\", evaluate_at_threshold(shared_split[\"y_test\"], y_proba, 0.50))\n",
        "# print(\"best:\", evaluate_at_threshold(shared_split[\"y_test\"], y_proba, t_best))\n"
      ],
      "id": "GAzRsK9_IWjf",
      "execution_count": 31,
      "outputs": []
    },
    {
      "cell_type": "code",
      "metadata": {
        "colab": {
          "base_uri": "https://localhost:8080/"
        },
        "id": "Laool7e-IWjf",
        "outputId": "c3a72b22-5553-43d9-c48d-af1d6f5b4325"
      },
      "source": [
        "controller.show_benchmarking()"
      ],
      "id": "Laool7e-IWjf",
      "execution_count": 32,
      "outputs": [
        {
          "output_type": "stream",
          "name": "stdout",
          "text": [
            "                              Accuracy ROC AUC  F1-score  Precision  Sensitivity (Recall)  Specificity (TNR)\n",
            "Perceptron (SLP)                0.7503     N/A    0.1980     0.1258                0.4646             0.7706\n",
            "Random Forest                   0.6781  0.7534    0.2226     0.1325                0.6944             0.6770\n",
            "PCA(5) + RF                     0.6407  0.7086    0.1975     0.1159                0.6667             0.6388\n",
            "Decision Tree                   0.6083  0.6212    0.1773     0.1030                0.6360             0.6063\n",
            "Multi-layer Perceptron (MLP)    0.5177  0.6832    0.1670     0.0943                0.7289             0.5027\n",
            "Logistic Regression             0.3604  0.6755    0.1524     0.0835                0.8669             0.3244\n",
            "PCA(5) + SVM                    0.3330  0.6718    0.1475     0.0806                0.8697             0.2949\n",
            "Support Vector Machine          0.3180  0.6703    0.1480     0.0807                0.8927             0.2772\n",
            "Naïve Bayesian                  0.1397  0.5651    0.1288     0.0691                0.9588             0.0815\n"
          ]
        }
      ]
    },
    {
      "cell_type": "code",
      "metadata": {
        "colab": {
          "base_uri": "https://localhost:8080/",
          "height": 718
        },
        "id": "yPlr513CIWjf",
        "outputId": "fdd6d1fd-7dfe-4133-ed84-7a9b7061eb14"
      },
      "source": [
        "controller.plot_all_roc()"
      ],
      "id": "yPlr513CIWjf",
      "execution_count": 33,
      "outputs": [
        {
          "output_type": "display_data",
          "data": {
            "text/plain": [
              "<Figure size 1200x800 with 1 Axes>"
            ],
            "image/png": "[encoded data removed]"
          },
          "metadata": {}
        }
      ]
    },
    {
      "cell_type": "code",
      "metadata": {
        "colab": {
          "base_uri": "https://localhost:8080/",
          "height": 788
        },
        "id": "jKVTvKYXIWjf",
        "outputId": "3a50b41a-6779-432d-c9e6-0e87ba6c6dc2"
      },
      "source": [
        "controller.plot_loss_curves()"
      ],
      "id": "jKVTvKYXIWjf",
      "execution_count": 35,
      "outputs": [
        {
          "output_type": "error",
          "ename": "AttributeError",
          "evalue": "'MLPModel' object has no attribute 'plot_performance_curve'",
          "traceback": [
            "\u001b[0;31m---------------------------------------------------------------------------\u001b[0m",
            "\u001b[0;31mAttributeError\u001b[0m                            Traceback (most recent call last)",
            "\u001b[0;32m/tmp/ipython-input-3036509397.py\u001b[0m in \u001b[0;36m<cell line: 0>\u001b[0;34m()\u001b[0m\n\u001b[0;32m----> 1\u001b[0;31m \u001b[0mcontroller\u001b[0m\u001b[0;34m.\u001b[0m\u001b[0mplot_loss_curves\u001b[0m\u001b[0;34m(\u001b[0m\u001b[0;34m)\u001b[0m\u001b[0;34m\u001b[0m\u001b[0;34m\u001b[0m\u001b[0m\n\u001b[0m",
            "\u001b[0;32m/tmp/ipython-input-411116864.py\u001b[0m in \u001b[0;36mplot_loss_curves\u001b[0;34m(self)\u001b[0m\n\u001b[1;32m     51\u001b[0m         \u001b[0;32mfor\u001b[0m \u001b[0mname\u001b[0m\u001b[0;34m,\u001b[0m\u001b[0mm\u001b[0m \u001b[0;32min\u001b[0m \u001b[0mself\u001b[0m\u001b[0;34m.\u001b[0m\u001b[0mmodels\u001b[0m\u001b[0;34m.\u001b[0m\u001b[0mitems\u001b[0m\u001b[0;34m(\u001b[0m\u001b[0;34m)\u001b[0m\u001b[0;34m:\u001b[0m\u001b[0;34m\u001b[0m\u001b[0;34m\u001b[0m\u001b[0m\n\u001b[1;32m     52\u001b[0m             \u001b[0;32mif\u001b[0m \u001b[0misinstance\u001b[0m\u001b[0;34m(\u001b[0m\u001b[0mm\u001b[0m\u001b[0;34m,\u001b[0m \u001b[0mMLPModel\u001b[0m\u001b[0;34m)\u001b[0m \u001b[0;32mand\u001b[0m \u001b[0mhasattr\u001b[0m\u001b[0;34m(\u001b[0m\u001b[0mm\u001b[0m\u001b[0;34m.\u001b[0m\u001b[0mmodel\u001b[0m\u001b[0;34m,\u001b[0m\u001b[0;34m\"loss_curve_\"\u001b[0m\u001b[0;34m)\u001b[0m \u001b[0;32mand\u001b[0m \u001b[0mm\u001b[0m\u001b[0;34m.\u001b[0m\u001b[0mmodel\u001b[0m\u001b[0;34m.\u001b[0m\u001b[0mloss_curve_\u001b[0m \u001b[0;32mis\u001b[0m \u001b[0;32mnot\u001b[0m \u001b[0;32mNone\u001b[0m\u001b[0;34m:\u001b[0m\u001b[0;34m\u001b[0m\u001b[0;34m\u001b[0m\u001b[0m\n\u001b[0;32m---> 53\u001b[0;31m                 \u001b[0mm\u001b[0m\u001b[0;34m.\u001b[0m\u001b[0mplot_performance_curve\u001b[0m\u001b[0;34m(\u001b[0m\u001b[0max\u001b[0m\u001b[0;34m=\u001b[0m\u001b[0max\u001b[0m\u001b[0;34m,\u001b[0m \u001b[0mlabel_prefix\u001b[0m\u001b[0;34m=\u001b[0m\u001b[0mname\u001b[0m\u001b[0;34m)\u001b[0m\u001b[0;34m;\u001b[0m \u001b[0mfound\u001b[0m\u001b[0;34m=\u001b[0m\u001b[0;32mTrue\u001b[0m\u001b[0;34m\u001b[0m\u001b[0;34m\u001b[0m\u001b[0m\n\u001b[0m\u001b[1;32m     54\u001b[0m         \u001b[0;32mif\u001b[0m \u001b[0mfound\u001b[0m\u001b[0;34m:\u001b[0m \u001b[0max\u001b[0m\u001b[0;34m.\u001b[0m\u001b[0mset_title\u001b[0m\u001b[0;34m(\u001b[0m\u001b[0;34m\"MLP Loss vs Epochs\"\u001b[0m\u001b[0;34m)\u001b[0m\u001b[0;34m\u001b[0m\u001b[0;34m\u001b[0m\u001b[0m\n\u001b[1;32m     55\u001b[0m         \u001b[0;32melse\u001b[0m\u001b[0;34m:\u001b[0m \u001b[0mprint\u001b[0m\u001b[0;34m(\u001b[0m\u001b[0;34m\"No MLP loss curve.\"\u001b[0m\u001b[0;34m)\u001b[0m\u001b[0;34m\u001b[0m\u001b[0;34m\u001b[0m\u001b[0m\n",
            "\u001b[0;31mAttributeError\u001b[0m: 'MLPModel' object has no attribute 'plot_performance_curve'"
          ]
        },
        {
          "output_type": "display_data",
          "data": {
            "text/plain": [
              "<Figure size 800x600 with 1 Axes>"
            ],
            "image/png": "[encoded data removed]"
          },
          "metadata": {}
        }
      ]
    }
  ]
}
