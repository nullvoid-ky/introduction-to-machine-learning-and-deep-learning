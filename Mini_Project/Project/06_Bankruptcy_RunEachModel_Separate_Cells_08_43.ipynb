{
  "nbformat": 4,
  "nbformat_minor": 5,
  "metadata": {
    "kernelspec": {
      "display_name": "Python 3",
      "name": "python3"
    },
    "language_info": {
      "name": "python",
      "version": "3.x"
    },
    "colab": {
      "provenance": [],
      "gpuType": "V5E1",
      "include_colab_link": true
    },
    "accelerator": "TPU"
  },
  "cells": [
    {
      "cell_type": "markdown",
      "metadata": {
        "id": "view-in-github",
        "colab_type": "text"
      },
      "source": [
        "<a href=\"https://colab.research.google.com/github/nullvoid-ky/introduction-to-machine-learning-and-deep-learning/blob/main/Bankruptcy_RunEachModel_Separate_Cells_08_43.ipynb\" target=\"_parent\"><img src=\"https://colab.research.google.com/assets/colab-badge.svg\" alt=\"Open In Colab\"/></a>"
      ]
    },
    {
      "cell_type": "markdown",
      "metadata": {
        "id": "AoqnBiWABzO0"
      },
      "source": [
        "# Bankruptcy Prediction – Run models separately (per-cell)\n",
        "\n",
        "**แนวคิด:** รันแต่ละโมเดลแยก cell เพื่อช่วยดีบัก/ควบคุมหน่วยความจำได้ง่ายขึ้น และใช้ **train/test split ร่วมกัน**\n",
        "\n",
        "ลำดับรันแนะนำ:\n",
        "1) Load `df` (หรือข้ามถ้าคุณมี `df` อยู่แล้ว)\n",
        "2) Feature selection (X,y) + map target (alive→0, failed→1)\n",
        "3) Import & class definitions\n",
        "4) สร้าง Controller\n",
        "5) **Split & Share** (เตรียม `shared_split`)\n",
        "6) รันแต่ละโมเดล (LogReg / DT / RF / NB / SVM / Perceptron / MLP / PCA+RF / PCA+SVM / KMeans / Agglo)\n",
        "7) Benchmark table, ROC curves, Loss curve\n"
      ],
      "id": "AoqnBiWABzO0"
    },
    {
      "cell_type": "code",
      "source": [
        "# ===== Setup & Installs (Kaggle usually has most of these; safe to re-run) =====\n",
        "!pip -q install kagglehub shap lightgbm xgboost\n",
        "\n",
        "import numpy as np\n",
        "import pandas as pd\n",
        "import matplotlib.pyplot as plt\n",
        "from typing import List\n",
        "\n",
        "from sklearn.model_selection import train_test_split, StratifiedKFold\n",
        "from sklearn.pipeline import Pipeline\n",
        "from sklearn.preprocessing import StandardScaler\n",
        "from sklearn.impute import SimpleImputer\n",
        "from sklearn.compose import ColumnTransformer\n",
        "from sklearn.metrics import accuracy_score, roc_auc_score\n",
        "from sklearn.linear_model import LogisticRegression\n",
        "from sklearn.ensemble import RandomForestClassifier, GradientBoostingClassifier\n",
        "from sklearn.inspection import permutation_importance\n",
        "\n",
        "import shap\n",
        "import warnings\n",
        "warnings.filterwarnings('ignore')\n"
      ],
      "metadata": {
        "colab": {
          "base_uri": "https://localhost:8080/"
        },
        "id": "_gIiPF25B4KO",
        "outputId": "33d44673-d764-4419-ca8b-0f446cdf8184"
      },
      "id": "_gIiPF25B4KO",
      "execution_count": 1,
      "outputs": [
        {
          "output_type": "stream",
          "name": "stdout",
          "text": [
            "\u001b[?25l   \u001b[90m━━━━━━━━━━━━━━━━━━━━━━━━━━━━━━━━━━━━━━━━\u001b[0m \u001b[32m0.0/1.0 MB\u001b[0m \u001b[31m?\u001b[0m eta \u001b[36m-:--:--\u001b[0m\r\u001b[2K   \u001b[91m━━━━━━━━━━━━━━━━━━━━━━━━━━━━━━━━━━━━━━━\u001b[0m\u001b[91m╸\u001b[0m \u001b[32m1.0/1.0 MB\u001b[0m \u001b[31m39.2 MB/s\u001b[0m eta \u001b[36m0:00:01\u001b[0m\r\u001b[2K   \u001b[90m━━━━━━━━━━━━━━━━━━━━━━━━━━━━━━━━━━━━━━━━\u001b[0m \u001b[32m1.0/1.0 MB\u001b[0m \u001b[31m26.3 MB/s\u001b[0m eta \u001b[36m0:00:00\u001b[0m\n",
            "\u001b[2K   \u001b[90m━━━━━━━━━━━━━━━━━━━━━━━━━━━━━━━━━━━━━━━━\u001b[0m \u001b[32m3.6/3.6 MB\u001b[0m \u001b[31m109.1 MB/s\u001b[0m eta \u001b[36m0:00:00\u001b[0m\n",
            "\u001b[2K   \u001b[90m━━━━━━━━━━━━━━━━━━━━━━━━━━━━━━━━━━━━━━━━\u001b[0m \u001b[32m94.9/94.9 MB\u001b[0m \u001b[31m13.8 MB/s\u001b[0m eta \u001b[36m0:00:00\u001b[0m\n",
            "\u001b[2K   \u001b[90m━━━━━━━━━━━━━━━━━━━━━━━━━━━━━━━━━━━━━━━━\u001b[0m \u001b[32m295.9/295.9 MB\u001b[0m \u001b[31m1.4 MB/s\u001b[0m eta \u001b[36m0:00:00\u001b[0m\n",
            "\u001b[?25h"
          ]
        }
      ]
    },
    {
      "cell_type": "code",
      "source": [
        "import kagglehub\n",
        "\n",
        "# Download latest version\n",
        "path = kagglehub.dataset_download(\"utkarshx27/american-companies-bankruptcy-prediction-dataset\")\n",
        "\n",
        "print(\"Path to dataset files:\", path)"
      ],
      "metadata": {
        "colab": {
          "base_uri": "https://localhost:8080/"
        },
        "id": "2fHpEaZvB4BN",
        "outputId": "16f1c1be-f2af-4e1b-9de1-6dcbbaef1970"
      },
      "id": "2fHpEaZvB4BN",
      "execution_count": 2,
      "outputs": [
        {
          "output_type": "stream",
          "name": "stdout",
          "text": [
            "Downloading from https://www.kaggle.com/api/v1/datasets/download/utkarshx27/american-companies-bankruptcy-prediction-dataset?dataset_version_number=3...\n"
          ]
        },
        {
          "output_type": "stream",
          "name": "stderr",
          "text": [
            "100%|██████████| 4.47M/4.47M [00:00<00:00, 166MB/s]"
          ]
        },
        {
          "output_type": "stream",
          "name": "stdout",
          "text": [
            "Extracting files...\n",
            "Path to dataset files: /root/.cache/kagglehub/datasets/utkarshx27/american-companies-bankruptcy-prediction-dataset/versions/3\n"
          ]
        },
        {
          "output_type": "stream",
          "name": "stderr",
          "text": [
            "\n"
          ]
        }
      ]
    },
    {
      "cell_type": "code",
      "source": [
        "from kagglehub import KaggleDatasetAdapter, load_dataset\n",
        "\n",
        "# >>>>>>>>>>>>>>>>>>>>>>>>>>>>>>>>>>>>>>>>>>>>>>>>>>>>>>>>>>>>\n",
        "# Set the CSV file path **inside** the dataset (adjust if needed)\n",
        "# Explore the dataset directory printed below to confirm the file name.\n",
        "# >>>>>>>>>>>>>>>>>>>>>>>>>>>>>>>>>>>>>>>>>>>>>>>>>>>>>>>>>>>>\n",
        "file_path = \"/root/.cache/kagglehub/datasets/utkarshx27/american-companies-bankruptcy-prediction-dataset/versions/3/american_bankruptcy.csv\"\n",
        "\n",
        "df = pd.read_csv(file_path)\n",
        "\n",
        "print(\"Loaded shape:\", df.shape)\n",
        "print(\"Columns:\\n\", list(df.columns))\n",
        "df.head()"
      ],
      "metadata": {
        "colab": {
          "base_uri": "https://localhost:8080/",
          "height": 308
        },
        "id": "SQDgn92dB37k",
        "outputId": "50383fac-9ca1-48cf-f4a4-3d0874ddb3b9"
      },
      "id": "SQDgn92dB37k",
      "execution_count": 7,
      "outputs": [
        {
          "output_type": "stream",
          "name": "stdout",
          "text": [
            "Loaded shape: (78682, 21)\n",
            "Columns:\n",
            " ['company_name', 'status_label', 'year', 'X1', 'X2', 'X3', 'X4', 'X5', 'X6', 'X7', 'X8', 'X9', 'X10', 'X11', 'X12', 'X13', 'X14', 'X15', 'X16', 'X17', 'X18']\n"
          ]
        },
        {
          "output_type": "execute_result",
          "data": {
            "text/plain": [
              "  company_name status_label  year       X1       X2      X3      X4       X5  \\\n",
              "0          C_1        alive  1999  511.267  833.107  18.373  89.031  336.018   \n",
              "1          C_1        alive  2000  485.856  713.811  18.577  64.367  320.590   \n",
              "2          C_1        alive  2001  436.656  526.477  22.496  27.207  286.588   \n",
              "3          C_1        alive  2002  396.412  496.747  27.172  30.745  259.954   \n",
              "4          C_1        alive  2003  432.204  523.302  26.680  47.491  247.245   \n",
              "\n",
              "       X6       X7  ...        X9      X10      X11     X12      X13      X14  \\\n",
              "0  35.163  128.348  ...  1024.333  740.998  180.447  70.658  191.226  163.816   \n",
              "1  18.531  115.187  ...   874.255  701.854  179.987  45.790  160.444  125.392   \n",
              "2 -58.939   77.528  ...   638.721  710.199  217.699   4.711  112.244  150.464   \n",
              "3 -12.410   66.322  ...   606.337  686.621  164.658   3.573  109.590  203.575   \n",
              "4   3.504  104.661  ...   651.958  709.292  248.666  20.811  128.656  131.261   \n",
              "\n",
              "       X15       X16      X17      X18  \n",
              "0  201.026  1024.333  401.483  935.302  \n",
              "1  204.065   874.255  361.642  809.888  \n",
              "2  139.603   638.721  399.964  611.514  \n",
              "3  124.106   606.337  391.633  575.592  \n",
              "4  131.884   651.958  407.608  604.467  \n",
              "\n",
              "[5 rows x 21 columns]"
            ],
            "text/html": [
              "\n",
              "  <div id=\"df-593ae0db-f051-41a0-8de0-0567d413f95b\" class=\"colab-df-container\">\n",
              "    <div>\n",
              "<style scoped>\n",
              "    .dataframe tbody tr th:only-of-type {\n",
              "        vertical-align: middle;\n",
              "    }\n",
              "\n",
              "    .dataframe tbody tr th {\n",
              "        vertical-align: top;\n",
              "    }\n",
              "\n",
              "    .dataframe thead th {\n",
              "        text-align: right;\n",
              "    }\n",
              "</style>\n",
              "<table border=\"1\" class=\"dataframe\">\n",
              "  <thead>\n",
              "    <tr style=\"text-align: right;\">\n",
              "      <th></th>\n",
              "      <th>company_name</th>\n",
              "      <th>status_label</th>\n",
              "      <th>year</th>\n",
              "      <th>X1</th>\n",
              "      <th>X2</th>\n",
              "      <th>X3</th>\n",
              "      <th>X4</th>\n",
              "      <th>X5</th>\n",
              "      <th>X6</th>\n",
              "      <th>X7</th>\n",
              "      <th>...</th>\n",
              "      <th>X9</th>\n",
              "      <th>X10</th>\n",
              "      <th>X11</th>\n",
              "      <th>X12</th>\n",
              "      <th>X13</th>\n",
              "      <th>X14</th>\n",
              "      <th>X15</th>\n",
              "      <th>X16</th>\n",
              "      <th>X17</th>\n",
              "      <th>X18</th>\n",
              "    </tr>\n",
              "  </thead>\n",
              "  <tbody>\n",
              "    <tr>\n",
              "      <th>0</th>\n",
              "      <td>C_1</td>\n",
              "      <td>alive</td>\n",
              "      <td>1999</td>\n",
              "      <td>511.267</td>\n",
              "      <td>833.107</td>\n",
              "      <td>18.373</td>\n",
              "      <td>89.031</td>\n",
              "      <td>336.018</td>\n",
              "      <td>35.163</td>\n",
              "      <td>128.348</td>\n",
              "      <td>...</td>\n",
              "      <td>1024.333</td>\n",
              "      <td>740.998</td>\n",
              "      <td>180.447</td>\n",
              "      <td>70.658</td>\n",
              "      <td>191.226</td>\n",
              "      <td>163.816</td>\n",
              "      <td>201.026</td>\n",
              "      <td>1024.333</td>\n",
              "      <td>401.483</td>\n",
              "      <td>935.302</td>\n",
              "    </tr>\n",
              "    <tr>\n",
              "      <th>1</th>\n",
              "      <td>C_1</td>\n",
              "      <td>alive</td>\n",
              "      <td>2000</td>\n",
              "      <td>485.856</td>\n",
              "      <td>713.811</td>\n",
              "      <td>18.577</td>\n",
              "      <td>64.367</td>\n",
              "      <td>320.590</td>\n",
              "      <td>18.531</td>\n",
              "      <td>115.187</td>\n",
              "      <td>...</td>\n",
              "      <td>874.255</td>\n",
              "      <td>701.854</td>\n",
              "      <td>179.987</td>\n",
              "      <td>45.790</td>\n",
              "      <td>160.444</td>\n",
              "      <td>125.392</td>\n",
              "      <td>204.065</td>\n",
              "      <td>874.255</td>\n",
              "      <td>361.642</td>\n",
              "      <td>809.888</td>\n",
              "    </tr>\n",
              "    <tr>\n",
              "      <th>2</th>\n",
              "      <td>C_1</td>\n",
              "      <td>alive</td>\n",
              "      <td>2001</td>\n",
              "      <td>436.656</td>\n",
              "      <td>526.477</td>\n",
              "      <td>22.496</td>\n",
              "      <td>27.207</td>\n",
              "      <td>286.588</td>\n",
              "      <td>-58.939</td>\n",
              "      <td>77.528</td>\n",
              "      <td>...</td>\n",
              "      <td>638.721</td>\n",
              "      <td>710.199</td>\n",
              "      <td>217.699</td>\n",
              "      <td>4.711</td>\n",
              "      <td>112.244</td>\n",
              "      <td>150.464</td>\n",
              "      <td>139.603</td>\n",
              "      <td>638.721</td>\n",
              "      <td>399.964</td>\n",
              "      <td>611.514</td>\n",
              "    </tr>\n",
              "    <tr>\n",
              "      <th>3</th>\n",
              "      <td>C_1</td>\n",
              "      <td>alive</td>\n",
              "      <td>2002</td>\n",
              "      <td>396.412</td>\n",
              "      <td>496.747</td>\n",
              "      <td>27.172</td>\n",
              "      <td>30.745</td>\n",
              "      <td>259.954</td>\n",
              "      <td>-12.410</td>\n",
              "      <td>66.322</td>\n",
              "      <td>...</td>\n",
              "      <td>606.337</td>\n",
              "      <td>686.621</td>\n",
              "      <td>164.658</td>\n",
              "      <td>3.573</td>\n",
              "      <td>109.590</td>\n",
              "      <td>203.575</td>\n",
              "      <td>124.106</td>\n",
              "      <td>606.337</td>\n",
              "      <td>391.633</td>\n",
              "      <td>575.592</td>\n",
              "    </tr>\n",
              "    <tr>\n",
              "      <th>4</th>\n",
              "      <td>C_1</td>\n",
              "      <td>alive</td>\n",
              "      <td>2003</td>\n",
              "      <td>432.204</td>\n",
              "      <td>523.302</td>\n",
              "      <td>26.680</td>\n",
              "      <td>47.491</td>\n",
              "      <td>247.245</td>\n",
              "      <td>3.504</td>\n",
              "      <td>104.661</td>\n",
              "      <td>...</td>\n",
              "      <td>651.958</td>\n",
              "      <td>709.292</td>\n",
              "      <td>248.666</td>\n",
              "      <td>20.811</td>\n",
              "      <td>128.656</td>\n",
              "      <td>131.261</td>\n",
              "      <td>131.884</td>\n",
              "      <td>651.958</td>\n",
              "      <td>407.608</td>\n",
              "      <td>604.467</td>\n",
              "    </tr>\n",
              "  </tbody>\n",
              "</table>\n",
              "<p>5 rows × 21 columns</p>\n",
              "</div>\n",
              "    <div class=\"colab-df-buttons\">\n",
              "\n",
              "  <div class=\"colab-df-container\">\n",
              "    <button class=\"colab-df-convert\" onclick=\"convertToInteractive('df-593ae0db-f051-41a0-8de0-0567d413f95b')\"\n",
              "            title=\"Convert this dataframe to an interactive table.\"\n",
              "            style=\"display:none;\">\n",
              "\n",
              "  <svg xmlns=\"http://www.w3.org/2000/svg\" height=\"24px\" viewBox=\"0 -960 960 960\">\n",
              "    <path d=\"M120-120v-720h720v720H120Zm60-500h600v-160H180v160Zm220 220h160v-160H400v160Zm0 220h160v-160H400v160ZM180-400h160v-160H180v160Zm440 0h160v-160H620v160ZM180-180h160v-160H180v160Zm440 0h160v-160H620v160Z\"/>\n",
              "  </svg>\n",
              "    </button>\n",
              "\n",
              "  <style>\n",
              "    .colab-df-container {\n",
              "      display:flex;\n",
              "      gap: 12px;\n",
              "    }\n",
              "\n",
              "    .colab-df-convert {\n",
              "      background-color: #E8F0FE;\n",
              "      border: none;\n",
              "      border-radius: 50%;\n",
              "      cursor: pointer;\n",
              "      display: none;\n",
              "      fill: #1967D2;\n",
              "      height: 32px;\n",
              "      padding: 0 0 0 0;\n",
              "      width: 32px;\n",
              "    }\n",
              "\n",
              "    .colab-df-convert:hover {\n",
              "      background-color: #E2EBFA;\n",
              "      box-shadow: 0px 1px 2px rgba(60, 64, 67, 0.3), 0px 1px 3px 1px rgba(60, 64, 67, 0.15);\n",
              "      fill: #174EA6;\n",
              "    }\n",
              "\n",
              "    .colab-df-buttons div {\n",
              "      margin-bottom: 4px;\n",
              "    }\n",
              "\n",
              "    [theme=dark] .colab-df-convert {\n",
              "      background-color: #3B4455;\n",
              "      fill: #D2E3FC;\n",
              "    }\n",
              "\n",
              "    [theme=dark] .colab-df-convert:hover {\n",
              "      background-color: #434B5C;\n",
              "      box-shadow: 0px 1px 3px 1px rgba(0, 0, 0, 0.15);\n",
              "      filter: drop-shadow(0px 1px 2px rgba(0, 0, 0, 0.3));\n",
              "      fill: #FFFFFF;\n",
              "    }\n",
              "  </style>\n",
              "\n",
              "    <script>\n",
              "      const buttonEl =\n",
              "        document.querySelector('#df-593ae0db-f051-41a0-8de0-0567d413f95b button.colab-df-convert');\n",
              "      buttonEl.style.display =\n",
              "        google.colab.kernel.accessAllowed ? 'block' : 'none';\n",
              "\n",
              "      async function convertToInteractive(key) {\n",
              "        const element = document.querySelector('#df-593ae0db-f051-41a0-8de0-0567d413f95b');\n",
              "        const dataTable =\n",
              "          await google.colab.kernel.invokeFunction('convertToInteractive',\n",
              "                                                    [key], {});\n",
              "        if (!dataTable) return;\n",
              "\n",
              "        const docLinkHtml = 'Like what you see? Visit the ' +\n",
              "          '<a target=\"_blank\" href=https://colab.research.google.com/notebooks/data_table.ipynb>data table notebook</a>'\n",
              "          + ' to learn more about interactive tables.';\n",
              "        element.innerHTML = '';\n",
              "        dataTable['output_type'] = 'display_data';\n",
              "        await google.colab.output.renderOutput(dataTable, element);\n",
              "        const docLink = document.createElement('div');\n",
              "        docLink.innerHTML = docLinkHtml;\n",
              "        element.appendChild(docLink);\n",
              "      }\n",
              "    </script>\n",
              "  </div>\n",
              "\n",
              "\n",
              "    <div id=\"df-4aa221e2-e096-4a8e-848a-59648cb55122\">\n",
              "      <button class=\"colab-df-quickchart\" onclick=\"quickchart('df-4aa221e2-e096-4a8e-848a-59648cb55122')\"\n",
              "                title=\"Suggest charts\"\n",
              "                style=\"display:none;\">\n",
              "\n",
              "<svg xmlns=\"http://www.w3.org/2000/svg\" height=\"24px\"viewBox=\"0 0 24 24\"\n",
              "     width=\"24px\">\n",
              "    <g>\n",
              "        <path d=\"M19 3H5c-1.1 0-2 .9-2 2v14c0 1.1.9 2 2 2h14c1.1 0 2-.9 2-2V5c0-1.1-.9-2-2-2zM9 17H7v-7h2v7zm4 0h-2V7h2v10zm4 0h-2v-4h2v4z\"/>\n",
              "    </g>\n",
              "</svg>\n",
              "      </button>\n",
              "\n",
              "<style>\n",
              "  .colab-df-quickchart {\n",
              "      --bg-color: #E8F0FE;\n",
              "      --fill-color: #1967D2;\n",
              "      --hover-bg-color: #E2EBFA;\n",
              "      --hover-fill-color: #174EA6;\n",
              "      --disabled-fill-color: #AAA;\n",
              "      --disabled-bg-color: #DDD;\n",
              "  }\n",
              "\n",
              "  [theme=dark] .colab-df-quickchart {\n",
              "      --bg-color: #3B4455;\n",
              "      --fill-color: #D2E3FC;\n",
              "      --hover-bg-color: #434B5C;\n",
              "      --hover-fill-color: #FFFFFF;\n",
              "      --disabled-bg-color: #3B4455;\n",
              "      --disabled-fill-color: #666;\n",
              "  }\n",
              "\n",
              "  .colab-df-quickchart {\n",
              "    background-color: var(--bg-color);\n",
              "    border: none;\n",
              "    border-radius: 50%;\n",
              "    cursor: pointer;\n",
              "    display: none;\n",
              "    fill: var(--fill-color);\n",
              "    height: 32px;\n",
              "    padding: 0;\n",
              "    width: 32px;\n",
              "  }\n",
              "\n",
              "  .colab-df-quickchart:hover {\n",
              "    background-color: var(--hover-bg-color);\n",
              "    box-shadow: 0 1px 2px rgba(60, 64, 67, 0.3), 0 1px 3px 1px rgba(60, 64, 67, 0.15);\n",
              "    fill: var(--button-hover-fill-color);\n",
              "  }\n",
              "\n",
              "  .colab-df-quickchart-complete:disabled,\n",
              "  .colab-df-quickchart-complete:disabled:hover {\n",
              "    background-color: var(--disabled-bg-color);\n",
              "    fill: var(--disabled-fill-color);\n",
              "    box-shadow: none;\n",
              "  }\n",
              "\n",
              "  .colab-df-spinner {\n",
              "    border: 2px solid var(--fill-color);\n",
              "    border-color: transparent;\n",
              "    border-bottom-color: var(--fill-color);\n",
              "    animation:\n",
              "      spin 1s steps(1) infinite;\n",
              "  }\n",
              "\n",
              "  @keyframes spin {\n",
              "    0% {\n",
              "      border-color: transparent;\n",
              "      border-bottom-color: var(--fill-color);\n",
              "      border-left-color: var(--fill-color);\n",
              "    }\n",
              "    20% {\n",
              "      border-color: transparent;\n",
              "      border-left-color: var(--fill-color);\n",
              "      border-top-color: var(--fill-color);\n",
              "    }\n",
              "    30% {\n",
              "      border-color: transparent;\n",
              "      border-left-color: var(--fill-color);\n",
              "      border-top-color: var(--fill-color);\n",
              "      border-right-color: var(--fill-color);\n",
              "    }\n",
              "    40% {\n",
              "      border-color: transparent;\n",
              "      border-right-color: var(--fill-color);\n",
              "      border-top-color: var(--fill-color);\n",
              "    }\n",
              "    60% {\n",
              "      border-color: transparent;\n",
              "      border-right-color: var(--fill-color);\n",
              "    }\n",
              "    80% {\n",
              "      border-color: transparent;\n",
              "      border-right-color: var(--fill-color);\n",
              "      border-bottom-color: var(--fill-color);\n",
              "    }\n",
              "    90% {\n",
              "      border-color: transparent;\n",
              "      border-bottom-color: var(--fill-color);\n",
              "    }\n",
              "  }\n",
              "</style>\n",
              "\n",
              "      <script>\n",
              "        async function quickchart(key) {\n",
              "          const quickchartButtonEl =\n",
              "            document.querySelector('#' + key + ' button');\n",
              "          quickchartButtonEl.disabled = true;  // To prevent multiple clicks.\n",
              "          quickchartButtonEl.classList.add('colab-df-spinner');\n",
              "          try {\n",
              "            const charts = await google.colab.kernel.invokeFunction(\n",
              "                'suggestCharts', [key], {});\n",
              "          } catch (error) {\n",
              "            console.error('Error during call to suggestCharts:', error);\n",
              "          }\n",
              "          quickchartButtonEl.classList.remove('colab-df-spinner');\n",
              "          quickchartButtonEl.classList.add('colab-df-quickchart-complete');\n",
              "        }\n",
              "        (() => {\n",
              "          let quickchartButtonEl =\n",
              "            document.querySelector('#df-4aa221e2-e096-4a8e-848a-59648cb55122 button');\n",
              "          quickchartButtonEl.style.display =\n",
              "            google.colab.kernel.accessAllowed ? 'block' : 'none';\n",
              "        })();\n",
              "      </script>\n",
              "    </div>\n",
              "\n",
              "    </div>\n",
              "  </div>\n"
            ],
            "application/vnd.google.colaboratory.intrinsic+json": {
              "type": "dataframe",
              "variable_name": "df"
            }
          },
          "metadata": {},
          "execution_count": 7
        }
      ]
    },
    {
      "cell_type": "code",
      "source": [],
      "metadata": {
        "id": "s3XGXg28B3nR"
      },
      "id": "s3XGXg28B3nR",
      "execution_count": 8,
      "outputs": []
    },
    {
      "cell_type": "code",
      "metadata": {
        "colab": {
          "base_uri": "https://localhost:8080/"
        },
        "id": "UAU4pNQgBzO3",
        "outputId": "a3ae963a-9a46-4879-b519-c0dac410a80d"
      },
      "source": [
        "# ==============================\n",
        "# Load your DataFrame (df)\n",
        "# ==============================\n",
        "try:\n",
        "    df  # noqa: F821\n",
        "    print(\"✅ Found existing `df`.\")\n",
        "except NameError:\n",
        "    import pandas as pd\n",
        "    print(\"ℹ️ No existing `df` found. Creating a tiny placeholder. Replace with your CSV load.\")\n",
        "    df = pd.DataFrame({\n",
        "        \"X8\":[0.1,0.2,0.3,0.4],\n",
        "        \"X17\":[1,2,3,4],\n",
        "        \"X3\":[5,6,7,8],\n",
        "        \"X11\":[0,1,0,1],\n",
        "        \"X15\":[10,11,12,13],\n",
        "        \"X1\":[2,3,4,5],\n",
        "        \"X6\":[9,8,7,6],\n",
        "        \"status_label\":[\"alive\",\"failed\",\"alive\",\"failed\"],\n",
        "    })\n",
        "print(\"df shape:\", df.shape)\n"
      ],
      "execution_count": 9,
      "outputs": [
        {
          "output_type": "stream",
          "name": "stdout",
          "text": [
            "✅ Found existing `df`.\n",
            "df shape: (78682, 21)\n"
          ]
        }
      ],
      "id": "UAU4pNQgBzO3"
    },
    {
      "cell_type": "code",
      "metadata": {
        "colab": {
          "base_uri": "https://localhost:8080/"
        },
        "id": "7xZ6ZyrpBzO5",
        "outputId": "9f4ea210-a9de-40a6-a3b1-598ab3e67753"
      },
      "source": [
        "# ==============================\n",
        "# Feature selection (X, y) + map target\n",
        "# ==============================\n",
        "import numpy as np\n",
        "import pandas as pd\n",
        "\n",
        "FEATURES = [\"X8\",\"X17\",\"X3\",\"X11\",\"X15\",\"X1\",\"X6\"]\n",
        "TARGET   = \"status_label\"\n",
        "\n",
        "missing = [c for c in FEATURES + [TARGET] if c not in df.columns]\n",
        "if missing:\n",
        "    raise ValueError(f\"❌ Missing columns in df: {missing}\")\n",
        "\n",
        "df[TARGET] = df[TARGET].astype(str).str.strip().str.lower().map({\n",
        "    \"alive\": 0,\n",
        "    \"failed\": 1\n",
        "}).astype(int)\n",
        "\n",
        "X = df[FEATURES].copy()\n",
        "y = df[TARGET].copy()\n",
        "\n",
        "print(\"✅ X,y ready.\")\n",
        "print(\"X shape:\", X.shape, \"| y counts:\", dict(pd.Series(y).value_counts()))\n"
      ],
      "execution_count": 10,
      "outputs": [
        {
          "output_type": "stream",
          "name": "stdout",
          "text": [
            "✅ X,y ready.\n",
            "X shape: (78682, 7) | y counts: {0: np.int64(73462), 1: np.int64(5220)}\n"
          ]
        }
      ],
      "id": "7xZ6ZyrpBzO5"
    },
    {
      "cell_type": "code",
      "metadata": {
        "id": "fWqz1f2kBzO5"
      },
      "source": [
        "# ==============================\n",
        "# Imports\n",
        "# ==============================\n",
        "import warnings\n",
        "warnings.filterwarnings(\"ignore\")\n",
        "\n",
        "import matplotlib.pyplot as plt\n",
        "from abc import ABC, abstractmethod\n",
        "from sklearn.model_selection import train_test_split\n",
        "from sklearn.preprocessing import StandardScaler\n",
        "from sklearn.pipeline import Pipeline\n",
        "\n",
        "from sklearn.linear_model import LogisticRegression, Perceptron\n",
        "from sklearn.tree import DecisionTreeClassifier\n",
        "from sklearn.ensemble import RandomForestClassifier\n",
        "from sklearn.naive_bayes import GaussianNB\n",
        "from sklearn.svm import SVC\n",
        "from sklearn.neural_network import MLPClassifier\n",
        "\n",
        "from sklearn.cluster import KMeans, AgglomerativeClustering\n",
        "from sklearn.decomposition import PCA\n",
        "\n",
        "from sklearn.metrics import (\n",
        "    accuracy_score, confusion_matrix, roc_auc_score, f1_score,\n",
        "    precision_score, recall_score, roc_curve, auc\n",
        ")\n",
        "\n",
        "plt.style.use(\"ggplot\")\n",
        "RANDOM_STATE = 42\n"
      ],
      "execution_count": 11,
      "outputs": [],
      "id": "fWqz1f2kBzO5"
    },
    {
      "cell_type": "code",
      "metadata": {
        "id": "mWGrEogmBzO6"
      },
      "source": [
        "# ==============================\n",
        "# Base & Subclass Models (OOP)\n",
        "# ==============================\n",
        "class BaseModel(ABC):\n",
        "    def __init__(self, X: pd.DataFrame, y: pd.Series, model_params: dict = None, random_state: int = RANDOM_STATE):\n",
        "        self.X = X\n",
        "        self.y = y\n",
        "        self.random_state = random_state\n",
        "        self.model = None\n",
        "        self.model_params = model_params if model_params is not None else {}\n",
        "        self.X_train = None\n",
        "        self.X_test  = None\n",
        "        self.y_train = None\n",
        "        self.y_test  = None\n",
        "        self.scaler = StandardScaler()\n",
        "        self.history = None\n",
        "        self.is_fitted = False\n",
        "\n",
        "    def split_data(self, test_size: float = 0.2, scale: bool = True):\n",
        "        X_train_raw, X_test_raw, self.y_train, self.y_test = train_test_split(\n",
        "            self.X, self.y, test_size=test_size, random_state=self.random_state, stratify=self.y\n",
        "        )\n",
        "        if scale:\n",
        "            self.X_train = pd.DataFrame(self.scaler.fit_transform(X_train_raw), columns=X_train_raw.columns)\n",
        "            self.X_test  = pd.DataFrame(self.scaler.transform(X_test_raw), columns=X_test_raw.columns)\n",
        "        else:\n",
        "            self.X_train = X_train_raw\n",
        "            self.X_test  = X_test_raw\n",
        "\n",
        "    @abstractmethod\n",
        "    def build_model(self):\n",
        "        pass\n",
        "\n",
        "    def fit(self):\n",
        "        if self.X_train is None:\n",
        "            raise ValueError(\"Data not split. Call .split_data() first.\")\n",
        "        self.build_model()\n",
        "        self.model.fit(self.X_train, self.y_train)\n",
        "        self.is_fitted = True\n",
        "        if hasattr(self.model, \"loss_curve_\"):\n",
        "            self.history = {\"loss_curve\": self.model.loss_curve_}\n",
        "        print(f\"✅ {self.__class__.__name__} trained.\")\n",
        "\n",
        "    def evaluate(self):\n",
        "        if isinstance(self.model, (KMeans, AgglomerativeClustering)):\n",
        "            return {\"Note\": \"Unsupervised Model: Use specific clustering metrics.\"}\n",
        "\n",
        "        if self.y_test is None or not self.is_fitted:\n",
        "            return {\"Error\": \"Model not fitted or Test data not available.\"}\n",
        "\n",
        "        y_pred = self.model.predict(self.X_test)\n",
        "        results = {}\n",
        "        if len(np.unique(self.y_test)) == 2:\n",
        "            try:\n",
        "                tn, fp, fn, tp = confusion_matrix(self.y_test, y_pred).ravel()\n",
        "                sensitivity = tp / (tp + fn) if (tp + fn) else 0.0\n",
        "                specificity = tn / (tn + fp) if (tn + fp) else 0.0\n",
        "                results = {\n",
        "                    \"Loss (MLP only)\": getattr(self.model, \"loss_\", \"N/A\"),\n",
        "                    \"Confusion Matrix\": confusion_matrix(self.y_test, y_pred).tolist(),\n",
        "                    \"Accuracy\": accuracy_score(self.y_test, y_pred),\n",
        "                    \"Precision\": precision_score(self.y_test, y_pred, zero_division=0),\n",
        "                    \"Sensitivity (Recall)\": sensitivity,\n",
        "                    \"Specificity (TNR)\": specificity,\n",
        "                    \"F1-score\": f1_score(self.y_test, y_pred, zero_division=0),\n",
        "                    \"ROC AUC\": \"N/A\",\n",
        "                }\n",
        "                if hasattr(self.model, \"predict_proba\"):\n",
        "                    y_proba = self.model.predict_proba(self.X_test)[:, 1]\n",
        "                    results[\"ROC AUC\"] = roc_auc_score(self.y_test, y_proba)\n",
        "            except Exception as e:\n",
        "                results = {\"Error\": f\"Evaluation failed: {e}\"}\n",
        "        else:\n",
        "            results = {\"Accuracy\": accuracy_score(self.y_test, y_pred)}\n",
        "        return results\n",
        "\n",
        "    def plot_roc(self, ax=None, label_prefix=\"\"):\n",
        "        if not hasattr(self.model, \"predict_proba\") or self.y_test is None:\n",
        "            return\n",
        "        y_proba = self.model.predict_proba(self.X_test)[:, 1]\n",
        "        fpr, tpr, _ = roc_curve(self.y_test, y_proba)\n",
        "        roc_auc = auc(fpr, tpr)\n",
        "        if ax is None:\n",
        "            fig, ax = plt.subplots(1, 1)\n",
        "        ax.plot(fpr, tpr, label=f\"{label_prefix} (AUC = {roc_auc:.4f})\")\n",
        "        ax.plot([0, 1], [0, 1], \"r--\")\n",
        "\n",
        "    def plot_performance_curve(self, ax=None, label_prefix=\"\"):\n",
        "        if hasattr(self.model, \"loss_curve_\") and self.model.loss_curve_ is not None:\n",
        "            if ax is None:\n",
        "                fig, ax = plt.subplots(1, 1)\n",
        "            ax.plot(self.model.loss_curve_, label=f\"{label_prefix} Loss\")\n",
        "            ax.set_title(\"Model Loss Curve\")\n",
        "            ax.set_xlabel(\"Epochs\")\n",
        "            ax.set_ylabel(\"Loss\")\n",
        "            ax.legend()\n",
        "\n",
        "class LogisticRegressionModel(BaseModel):\n",
        "    def build_model(self):\n",
        "        self.model = LogisticRegression(random_state=self.random_state, **self.model_params)\n",
        "\n",
        "class DecisionTreeModel(BaseModel):\n",
        "    def build_model(self):\n",
        "        self.model = DecisionTreeClassifier(random_state=self.random_state, **self.model_params)\n",
        "\n",
        "class RandomForestModel(BaseModel):\n",
        "    def build_model(self):\n",
        "        self.model = RandomForestClassifier(random_state=self.random_state, **self.model_params)\n",
        "\n",
        "class NaiveBayesModel(BaseModel):\n",
        "    def build_model(self):\n",
        "        self.model = GaussianNB(**self.model_params)\n",
        "\n",
        "class SupportVectorMachineModel(BaseModel):\n",
        "    def build_model(self):\n",
        "        self.model = SVC(random_state=self.random_state, probability=True, **self.model_params)\n",
        "\n",
        "class PerceptronModel(BaseModel):\n",
        "    def build_model(self):\n",
        "        self.model = Perceptron(random_state=self.random_state, **self.model_params)\n",
        "\n",
        "class MLPModel(BaseModel):\n",
        "    def build_model(self):\n",
        "        self.model = MLPClassifier(random_state=self.random_state, **self.model_params)\n",
        "\n",
        "class KMeanClustering(BaseModel):\n",
        "    def build_model(self):\n",
        "        n_clusters = self.model_params.pop(\"n_clusters\", 2)\n",
        "        self.model = KMeans(n_clusters=n_clusters, random_state=self.random_state, n_init=10, **self.model_params)\n",
        "    def fit(self):\n",
        "        if self.X_train is None:\n",
        "            raise ValueError(\"Data not split.\")\n",
        "        self.build_model()\n",
        "        self.model.fit(self.X_train)\n",
        "        self.is_fitted = True\n",
        "        print(f\"✅ {self.__class__.__name__} trained.\")\n",
        "\n",
        "class AgglomerativeClusteringModel(BaseModel):\n",
        "    def build_model(self):\n",
        "        n_clusters = self.model_params.pop(\"n_clusters\", 2)\n",
        "        self.model = AgglomerativeClustering(n_clusters=n_clusters, **self.model_params)\n",
        "    def fit(self):\n",
        "        if self.X_train is None:\n",
        "            raise ValueError(\"Data not split.\")\n",
        "        self.build_model()\n",
        "        self.model.fit(self.X_train)\n",
        "        self.is_fitted = True\n",
        "        print(f\"✅ {self.__class__.__name__} trained.\")\n",
        "\n",
        "class ReducedClassifierModel(BaseModel):\n",
        "    def __init__(self, X, y, classifier_class, n_components, model_params=None, random_state=RANDOM_STATE):\n",
        "        super().__init__(X, y, model_params, random_state)\n",
        "        self.classifier_class = classifier_class\n",
        "        self.n_components = n_components\n",
        "    def build_model(self):\n",
        "        pca = PCA(n_components=self.n_components, random_state=self.random_state)\n",
        "        if self.classifier_class == SVC:\n",
        "            classifier = SVC(random_state=self.random_state, probability=True, **self.model_params)\n",
        "        else:\n",
        "            classifier = self.classifier_class(random_state=self.random_state, **self.model_params)\n",
        "        self.model = Pipeline(steps=[(\"pca\", pca), (\"classifier\", classifier)])\n"
      ],
      "execution_count": 12,
      "outputs": [],
      "id": "mWGrEogmBzO6"
    },
    {
      "cell_type": "code",
      "metadata": {
        "id": "m9DvhD7CBzO6"
      },
      "source": [
        "# ==============================\n",
        "# Controller (no run_all)\n",
        "# ==============================\n",
        "class ModelController:\n",
        "    def __init__(self, X: pd.DataFrame, y: pd.Series, test_size: float = 0.2, random_state: int = RANDOM_STATE):\n",
        "        self.X = X\n",
        "        self.y = y\n",
        "        self.test_size = test_size\n",
        "        self.random_state = random_state\n",
        "        self.models = self._initialize_models()\n",
        "        self.results = {}\n",
        "\n",
        "    def _initialize_models(self):\n",
        "        svm_params  = {\"C\": 10, \"gamma\": \"auto\", \"class_weight\": \"balanced\"}\n",
        "        rf_params   = {\"n_estimators\": 150, \"class_weight\": \"balanced_subsample\"}\n",
        "        lr_params   = {\"class_weight\": \"balanced\"}\n",
        "        dt_params   = {\"class_weight\": \"balanced\"}\n",
        "        perc_params = {\"class_weight\": \"balanced\"}\n",
        "        mlp_params  = {\"hidden_layer_sizes\": (50,), \"max_iter\": 500}\n",
        "\n",
        "        return {\n",
        "            \"Logistic Regression\": LogisticRegressionModel(self.X, self.y, model_params=lr_params),\n",
        "            \"Decision Tree\": DecisionTreeModel(self.X, self.y, model_params=dt_params),\n",
        "            \"Random Forest\": RandomForestModel(self.X, self.y, model_params=rf_params),\n",
        "            \"Naïve Bayesian\": NaiveBayesModel(self.X, self.y),\n",
        "            \"Support Vector Machine\": SupportVectorMachineModel(self.X, self.y, model_params=svm_params),\n",
        "            \"Perceptron (SLP)\": PerceptronModel(self.X, self.y, model_params=perc_params),\n",
        "            \"Multi-layer Perceptron (MLP)\": MLPModel(self.X, self.y, model_params=mlp_params),\n",
        "            \"PCA(5) + RF\": ReducedClassifierModel(self.X, self.y, RandomForestClassifier, n_components=5, model_params=rf_params),\n",
        "            \"PCA(5) + SVM\": ReducedClassifierModel(self.X, self.y, SVC, n_components=5, model_params=svm_params),\n",
        "            \"K-Means Clustering (k=2)\": KMeanClustering(self.X, self.y, model_params={\"n_clusters\": 2}),\n",
        "            \"Agglomerative Clustering (k=2)\": AgglomerativeClusteringModel(self.X, self.y, model_params={\"n_clusters\": 2}),\n",
        "        }\n",
        "\n",
        "    def get_results(self, model_name: str = None):\n",
        "        if model_name:\n",
        "            return self.results.get(model_name, \"Model not found or not run.\")\n",
        "        return self.results\n",
        "\n",
        "    def show_benchmarking(self):\n",
        "        classification = {k: v for k, v in self.results.items()\n",
        "                          if isinstance(v, dict) and ('Accuracy' in v or 'ROC AUC' in v)}\n",
        "        if not classification:\n",
        "            print(\"\\n⚠️ No classification results to show benchmarking.\")\n",
        "            return\n",
        "        df_results = pd.DataFrame.from_dict(classification, orient=\"index\")\n",
        "        metrics_order = [\"Accuracy\", \"ROC AUC\", \"F1-score\", \"Precision\", \"Sensitivity (Recall)\", \"Specificity (TNR)\"]\n",
        "        cols = [m for m in metrics_order if m in df_results.columns]\n",
        "\n",
        "        print(\"\\n\" + \"=\"*70)\n",
        "        print(\"📊 QUANTITATIVE BENCHMARKING RESULTS (Classification Models)\")\n",
        "        print(\"=\"*70)\n",
        "        print(df_results[cols].sort_values(by=\"Accuracy\", ascending=False).to_string(float_format=\"{:.4f}\".format))\n",
        "        print(\"\\n* ROC AUC may be 'N/A' for models without predict_proba.\")\n",
        "\n",
        "    def plot_all_roc(self):\n",
        "        plt.figure(figsize=(12, 8))\n",
        "        ax = plt.gca()\n",
        "        plotted = False\n",
        "        for name, m in self.models.items():\n",
        "            res = self.results.get(name, {})\n",
        "            if isinstance(m, (KMeanClustering, AgglomerativeClusteringModel)):\n",
        "                continue\n",
        "            if res.get(\"ROC AUC\") in (\"N/A\", None):\n",
        "                continue\n",
        "            try:\n",
        "                m.plot_roc(ax=ax, label_prefix=name)\n",
        "                plotted = True\n",
        "            except Exception:\n",
        "                pass\n",
        "        if plotted:\n",
        "            ax.set_title(\"Receiver Operating Characteristic (ROC) Curve Comparison\", fontsize=16)\n",
        "            ax.set_xlabel(\"False Positive Rate (1 - Specificity)\")\n",
        "            ax.set_ylabel(\"True Positive Rate (Sensitivity)\")\n",
        "            ax.legend(loc=\"lower right\")\n",
        "            plt.show()\n",
        "        else:\n",
        "            print(\"\\n⚠️ No ROC Curves available for comparison.\")\n",
        "\n",
        "    def plot_loss_curves(self):\n",
        "        plt.figure(figsize=(8, 6))\n",
        "        ax = plt.gca()\n",
        "        found = False\n",
        "        for name, m in self.models.items():\n",
        "            if isinstance(m, MLPModel) and hasattr(m.model, \"loss_curve_\") and m.model.loss_curve_ is not None:\n",
        "                m.plot_performance_curve(ax=ax, label_prefix=name)\n",
        "                found = True\n",
        "        if found:\n",
        "            ax.set_title(\"Performance Curve: MLP Loss vs. Epochs\", fontsize=16)\n",
        "            plt.show()\n",
        "        else:\n",
        "            print(\"\\n⚠️ No performance (loss) curves found for plotting.\")\n"
      ],
      "execution_count": 13,
      "outputs": [],
      "id": "m9DvhD7CBzO6"
    },
    {
      "cell_type": "code",
      "metadata": {
        "colab": {
          "base_uri": "https://localhost:8080/"
        },
        "id": "KxjXQdgHBzO7",
        "outputId": "9fc3728b-25ac-4222-b31d-58116daf6af5"
      },
      "source": [
        "# ==============================\n",
        "# Initialize controller\n",
        "# ==============================\n",
        "controller = ModelController(X=X, y=y, test_size=0.2, random_state=RANDOM_STATE)\n",
        "list(controller.models.keys())\n"
      ],
      "execution_count": 14,
      "outputs": [
        {
          "output_type": "execute_result",
          "data": {
            "text/plain": [
              "['Logistic Regression',\n",
              " 'Decision Tree',\n",
              " 'Random Forest',\n",
              " 'Naïve Bayesian',\n",
              " 'Support Vector Machine',\n",
              " 'Perceptron (SLP)',\n",
              " 'Multi-layer Perceptron (MLP)',\n",
              " 'PCA(5) + RF',\n",
              " 'PCA(5) + SVM',\n",
              " 'K-Means Clustering (k=2)',\n",
              " 'Agglomerative Clustering (k=2)']"
            ]
          },
          "metadata": {},
          "execution_count": 14
        }
      ],
      "id": "KxjXQdgHBzO7"
    },
    {
      "cell_type": "code",
      "metadata": {
        "colab": {
          "base_uri": "https://localhost:8080/"
        },
        "id": "uE-DWZpVBzO7",
        "outputId": "7e5c9fac-0306-40fe-cee7-0b2aadc3f03e"
      },
      "source": [
        "# ==============================\n",
        "# Split once & share\n",
        "# ==============================\n",
        "X_train_raw, X_test_raw, y_train, y_test = train_test_split(\n",
        "    controller.X, controller.y, test_size=controller.test_size,\n",
        "    random_state=controller.random_state, stratify=controller.y\n",
        ")\n",
        "scaler = StandardScaler()\n",
        "X_train = pd.DataFrame(scaler.fit_transform(X_train_raw), columns=X_train_raw.columns)\n",
        "X_test  = pd.DataFrame(scaler.transform(X_test_raw), columns=X_test_raw.columns)\n",
        "shared_split = {\"X_train\": X_train, \"X_test\": X_test, \"y_train\": y_train, \"y_test\": y_test}\n",
        "print(\"✅ Split ready. Train:\", X_train.shape, \" Test:\", X_test.shape)\n"
      ],
      "execution_count": 15,
      "outputs": [
        {
          "output_type": "stream",
          "name": "stdout",
          "text": [
            "✅ Split ready. Train: (62945, 7)  Test: (15737, 7)\n"
          ]
        }
      ],
      "id": "uE-DWZpVBzO7"
    },
    {
      "cell_type": "code",
      "metadata": {
        "colab": {
          "base_uri": "https://localhost:8080/"
        },
        "id": "aN_vraEmBzO8",
        "outputId": "1f21a324-2c77-4abc-9b97-13c150edaa11"
      },
      "source": [
        "# --- Logistic Regression ---\n",
        "name = \"Logistic Regression\"\n",
        "m = controller.models[name]\n",
        "m.X_train, m.X_test = shared_split[\"X_train\"], shared_split[\"X_test\"]\n",
        "m.y_train, m.y_test = shared_split[\"y_train\"], shared_split[\"y_test\"]\n",
        "m.fit()\n",
        "controller.results[name] = m.evaluate()\n",
        "print(name, \"results:\", controller.results[name])\n"
      ],
      "execution_count": 16,
      "outputs": [
        {
          "output_type": "stream",
          "name": "stdout",
          "text": [
            "✅ LogisticRegressionModel trained.\n",
            "Logistic Regression results: {'Loss (MLP only)': 'N/A', 'Confusion Matrix': [[4659, 10034], [137, 907]], 'Accuracy': 0.35368875897566243, 'Precision': 0.08289918654601956, 'Sensitivity (Recall)': np.float64(0.8687739463601533), 'Specificity (TNR)': np.float64(0.31708977063907984), 'F1-score': 0.15135586149353358, 'ROC AUC': np.float64(0.6745447632816002)}\n"
          ]
        }
      ],
      "id": "aN_vraEmBzO8"
    },
    {
      "cell_type": "code",
      "metadata": {
        "colab": {
          "base_uri": "https://localhost:8080/"
        },
        "id": "G2SHxKpfBzO8",
        "outputId": "a7324ba8-2995-45d4-fb2b-2e13b123c31b"
      },
      "source": [
        "# --- Decision Tree ---\n",
        "name = \"Decision Tree\"\n",
        "m = controller.models[name]\n",
        "m.X_train, m.X_test = shared_split[\"X_train\"], shared_split[\"X_test\"]\n",
        "m.y_train, m.y_test = shared_split[\"y_train\"], shared_split[\"y_test\"]\n",
        "m.fit()\n",
        "controller.results[name] = m.evaluate()\n",
        "print(name, \"results:\", controller.results[name])\n"
      ],
      "execution_count": 17,
      "outputs": [
        {
          "output_type": "stream",
          "name": "stdout",
          "text": [
            "✅ DecisionTreeModel trained.\n",
            "Decision Tree results: {'Loss (MLP only)': 'N/A', 'Confusion Matrix': [[13888, 805], [845, 199]], 'Accuracy': 0.8951515536633412, 'Precision': 0.19820717131474103, 'Sensitivity (Recall)': np.float64(0.19061302681992337), 'Specificity (TNR)': np.float64(0.9452120057170081), 'F1-score': 0.1943359375, 'ROC AUC': np.float64(0.5679125162684657)}\n"
          ]
        }
      ],
      "id": "G2SHxKpfBzO8"
    },
    {
      "cell_type": "code",
      "metadata": {
        "colab": {
          "base_uri": "https://localhost:8080/"
        },
        "id": "czNwpcQgBzO8",
        "outputId": "38faeedb-f469-4daf-8b30-2c7f57b134c3"
      },
      "source": [
        "# --- Random Forest ---\n",
        "name = \"Random Forest\"\n",
        "m = controller.models[name]\n",
        "m.X_train, m.X_test = shared_split[\"X_train\"], shared_split[\"X_test\"]\n",
        "m.y_train, m.y_test = shared_split[\"y_train\"], shared_split[\"y_test\"]\n",
        "m.fit()\n",
        "controller.results[name] = m.evaluate()\n",
        "print(name, \"results:\", controller.results[name])\n"
      ],
      "execution_count": 18,
      "outputs": [
        {
          "output_type": "stream",
          "name": "stdout",
          "text": [
            "✅ RandomForestModel trained.\n",
            "Random Forest results: {'Loss (MLP only)': 'N/A', 'Confusion Matrix': [[14688, 5], [1013, 31]], 'Accuracy': 0.935311685835928, 'Precision': 0.8611111111111112, 'Sensitivity (Recall)': np.float64(0.029693486590038315), 'Specificity (TNR)': np.float64(0.9996597018988634), 'F1-score': 0.05740740740740741, 'ROC AUC': np.float64(0.8029610432992175)}\n"
          ]
        }
      ],
      "id": "czNwpcQgBzO8"
    },
    {
      "cell_type": "code",
      "metadata": {
        "colab": {
          "base_uri": "https://localhost:8080/"
        },
        "id": "nB9AN5c6BzO8",
        "outputId": "d6cf2f19-4ed8-4308-9073-9ecb70f95d8f"
      },
      "source": [
        "# --- Naïve Bayesian ---\n",
        "name = \"Naïve Bayesian\"\n",
        "m = controller.models[name]\n",
        "m.X_train, m.X_test = shared_split[\"X_train\"], shared_split[\"X_test\"]\n",
        "m.y_train, m.y_test = shared_split[\"y_train\"], shared_split[\"y_test\"]\n",
        "m.fit()\n",
        "controller.results[name] = m.evaluate()\n",
        "print(name, \"results:\", controller.results[name])\n"
      ],
      "execution_count": 19,
      "outputs": [
        {
          "output_type": "stream",
          "name": "stdout",
          "text": [
            "✅ NaiveBayesModel trained.\n",
            "Naïve Bayesian results: {'Loss (MLP only)': 'N/A', 'Confusion Matrix': [[1427, 13266], [51, 993]], 'Accuracy': 0.1537777212937663, 'Precision': 0.06964022722491059, 'Sensitivity (Recall)': np.float64(0.9511494252873564), 'Specificity (TNR)': np.float64(0.0971210780643844), 'F1-score': 0.129778474808861, 'ROC AUC': np.float64(0.5559406400159796)}\n"
          ]
        }
      ],
      "id": "nB9AN5c6BzO8"
    },
    {
      "cell_type": "code",
      "metadata": {
        "colab": {
          "base_uri": "https://localhost:8080/"
        },
        "id": "Mb8nGK5nBzO8",
        "outputId": "47ccfc1d-c432-46de-a496-8efad2099e34"
      },
      "source": [
        "# --- Support Vector Machine ---\n",
        "name = \"Support Vector Machine\"\n",
        "m = controller.models[name]\n",
        "m.X_train, m.X_test = shared_split[\"X_train\"], shared_split[\"X_test\"]\n",
        "m.y_train, m.y_test = shared_split[\"y_train\"], shared_split[\"y_test\"]\n",
        "m.fit()\n",
        "controller.results[name] = m.evaluate()\n",
        "print(name, \"results:\", controller.results[name])\n"
      ],
      "execution_count": 20,
      "outputs": [
        {
          "output_type": "stream",
          "name": "stdout",
          "text": [
            "✅ SupportVectorMachineModel trained.\n",
            "Support Vector Machine results: {'Loss (MLP only)': 'N/A', 'Confusion Matrix': [[4467, 10226], [130, 914]], 'Accuracy': 0.3419330240833704, 'Precision': 0.08204667863554757, 'Sensitivity (Recall)': np.float64(0.8754789272030651), 'Specificity (TNR)': np.float64(0.30402232355543457), 'F1-score': 0.1500328299409061, 'ROC AUC': np.float64(0.6738284422978285)}\n"
          ]
        }
      ],
      "id": "Mb8nGK5nBzO8"
    },
    {
      "cell_type": "code",
      "metadata": {
        "colab": {
          "base_uri": "https://localhost:8080/"
        },
        "id": "XekkPqX-BzO8",
        "outputId": "7667223a-c734-409c-8dd6-99238874bb91"
      },
      "source": [
        "# --- Perceptron (SLP) ---\n",
        "name = \"Perceptron (SLP)\"\n",
        "m = controller.models[name]\n",
        "m.X_train, m.X_test = shared_split[\"X_train\"], shared_split[\"X_test\"]\n",
        "m.y_train, m.y_test = shared_split[\"y_train\"], shared_split[\"y_test\"]\n",
        "m.fit()\n",
        "controller.results[name] = m.evaluate()\n",
        "print(name, \"results:\", controller.results[name])\n"
      ],
      "execution_count": 21,
      "outputs": [
        {
          "output_type": "stream",
          "name": "stdout",
          "text": [
            "✅ PerceptronModel trained.\n",
            "Perceptron (SLP) results: {'Loss (MLP only)': 'N/A', 'Confusion Matrix': [[3435, 11258], [91, 953]], 'Accuracy': 0.27883332274258116, 'Precision': 0.07804438620915569, 'Sensitivity (Recall)': np.float64(0.9128352490421456), 'Specificity (TNR)': np.float64(0.23378479548084122), 'F1-score': 0.14379479441720106, 'ROC AUC': 'N/A'}\n"
          ]
        }
      ],
      "id": "XekkPqX-BzO8"
    },
    {
      "cell_type": "code",
      "metadata": {
        "colab": {
          "base_uri": "https://localhost:8080/"
        },
        "id": "rm6pFxIFBzO-",
        "outputId": "e3234a37-30af-449e-a380-d1e7c3dbe7a3"
      },
      "source": [
        "# --- Multi-layer Perceptron (MLP) ---\n",
        "name = \"Multi-layer Perceptron (MLP)\"\n",
        "m = controller.models[name]\n",
        "m.X_train, m.X_test = shared_split[\"X_train\"], shared_split[\"X_test\"]\n",
        "m.y_train, m.y_test = shared_split[\"y_train\"], shared_split[\"y_test\"]\n",
        "m.fit()\n",
        "controller.results[name] = m.evaluate()\n",
        "print(name, \"results:\", controller.results[name])\n"
      ],
      "execution_count": 22,
      "outputs": [
        {
          "output_type": "stream",
          "name": "stdout",
          "text": [
            "✅ MLPModel trained.\n",
            "Multi-layer Perceptron (MLP) results: {'Loss (MLP only)': np.float64(0.22791641772258878), 'Confusion Matrix': [[14684, 9], [1032, 12]], 'Accuracy': 0.933850162038508, 'Precision': 0.5714285714285714, 'Sensitivity (Recall)': np.float64(0.011494252873563218), 'Specificity (TNR)': np.float64(0.9993874634179541), 'F1-score': 0.022535211267605635, 'ROC AUC': np.float64(0.6896698404353938)}\n"
          ]
        }
      ],
      "id": "rm6pFxIFBzO-"
    },
    {
      "cell_type": "code",
      "metadata": {
        "colab": {
          "base_uri": "https://localhost:8080/"
        },
        "id": "kh8gqJsiBzO-",
        "outputId": "e09cdcfc-0173-44b4-af21-7b64750ed96a"
      },
      "source": [
        "# --- PCA(5) + RF ---\n",
        "name = \"PCA(5) + RF\"\n",
        "m = controller.models[name]\n",
        "m.X_train, m.X_test = shared_split[\"X_train\"], shared_split[\"X_test\"]\n",
        "m.y_train, m.y_test = shared_split[\"y_train\"], shared_split[\"y_test\"]\n",
        "m.fit()\n",
        "controller.results[name] = m.evaluate()\n",
        "print(name, \"results:\", controller.results[name])\n"
      ],
      "execution_count": 23,
      "outputs": [
        {
          "output_type": "stream",
          "name": "stdout",
          "text": [
            "✅ ReducedClassifierModel trained.\n",
            "PCA(5) + RF results: {'Loss (MLP only)': 'N/A', 'Confusion Matrix': [[14679, 14], [1026, 18]], 'Accuracy': 0.9339137065514392, 'Precision': 0.5625, 'Sensitivity (Recall)': np.float64(0.017241379310344827), 'Specificity (TNR)': np.float64(0.9990471653168176), 'F1-score': 0.03345724907063197, 'ROC AUC': np.float64(0.7220534747826068)}\n"
          ]
        }
      ],
      "id": "kh8gqJsiBzO-"
    },
    {
      "cell_type": "code",
      "metadata": {
        "colab": {
          "base_uri": "https://localhost:8080/"
        },
        "id": "SrfzHBy2BzO-",
        "outputId": "0db8a75c-aa91-4240-972a-55e6356b9a81"
      },
      "source": [
        "# --- PCA(5) + SVM ---\n",
        "name = \"PCA(5) + SVM\"\n",
        "m = controller.models[name]\n",
        "m.X_train, m.X_test = shared_split[\"X_train\"], shared_split[\"X_test\"]\n",
        "m.y_train, m.y_test = shared_split[\"y_train\"], shared_split[\"y_test\"]\n",
        "m.fit()\n",
        "controller.results[name] = m.evaluate()\n",
        "print(name, \"results:\", controller.results[name])\n"
      ],
      "execution_count": 24,
      "outputs": [
        {
          "output_type": "stream",
          "name": "stdout",
          "text": [
            "✅ ReducedClassifierModel trained.\n",
            "PCA(5) + SVM results: {'Loss (MLP only)': 'N/A', 'Confusion Matrix': [[4713, 9980], [142, 902]], 'Accuracy': 0.35680244010929657, 'Precision': 0.08288917478404705, 'Sensitivity (Recall)': np.float64(0.8639846743295019), 'Specificity (TNR)': np.float64(0.32076499013135507), 'F1-score': 0.1512661412040919, 'ROC AUC': np.float64(0.668580484933921)}\n"
          ]
        }
      ],
      "id": "SrfzHBy2BzO-"
    },
    {
      "cell_type": "code",
      "metadata": {
        "colab": {
          "base_uri": "https://localhost:8080/"
        },
        "id": "6HVFGfMpBzO-",
        "outputId": "140df33a-71c7-4c61-a5cc-00d8f41e0deb"
      },
      "source": [
        "# --- K-Means Clustering (k=2) ---\n",
        "name = \"K-Means Clustering (k=2)\"\n",
        "m = controller.models[name]\n",
        "m.X_train, m.X_test = shared_split[\"X_train\"], shared_split[\"X_test\"]\n",
        "m.y_train, m.y_test = shared_split[\"y_train\"], shared_split[\"y_test\"]\n",
        "m.fit()\n",
        "controller.results[name] = m.evaluate()\n",
        "print(name, \"results:\", controller.results[name])\n"
      ],
      "execution_count": 25,
      "outputs": [
        {
          "output_type": "stream",
          "name": "stdout",
          "text": [
            "✅ KMeanClustering trained.\n",
            "K-Means Clustering (k=2) results: {'Note': 'Unsupervised Model: Use specific clustering metrics.'}\n"
          ]
        }
      ],
      "id": "6HVFGfMpBzO-"
    },
    {
      "cell_type": "code",
      "metadata": {
        "colab": {
          "base_uri": "https://localhost:8080/"
        },
        "id": "z-fe_jBsBzO_",
        "outputId": "8785c207-082f-4580-fb31-dd832c73dc57"
      },
      "source": [
        "# --- Agglomerative Clustering (k=2) ---\n",
        "name = \"Agglomerative Clustering (k=2)\"\n",
        "m = controller.models[name]\n",
        "m.X_train, m.X_test = shared_split[\"X_train\"], shared_split[\"X_test\"]\n",
        "m.y_train, m.y_test = shared_split[\"y_train\"], shared_split[\"y_test\"]\n",
        "m.fit()\n",
        "controller.results[name] = m.evaluate()\n",
        "print(name, \"results:\", controller.results[name])\n"
      ],
      "execution_count": 26,
      "outputs": [
        {
          "output_type": "stream",
          "name": "stdout",
          "text": [
            "✅ AgglomerativeClusteringModel trained.\n",
            "Agglomerative Clustering (k=2) results: {'Note': 'Unsupervised Model: Use specific clustering metrics.'}\n"
          ]
        }
      ],
      "id": "z-fe_jBsBzO_"
    },
    {
      "cell_type": "code",
      "metadata": {
        "colab": {
          "base_uri": "https://localhost:8080/"
        },
        "id": "KRVS-sJwBzO_",
        "outputId": "1a9a855d-8746-4dba-a8e0-6e6b01035fe4"
      },
      "source": [
        "controller.show_benchmarking()"
      ],
      "execution_count": 27,
      "outputs": [
        {
          "output_type": "stream",
          "name": "stdout",
          "text": [
            "\n",
            "======================================================================\n",
            "📊 QUANTITATIVE BENCHMARKING RESULTS (Classification Models)\n",
            "======================================================================\n",
            "                              Accuracy ROC AUC  F1-score  Precision  Sensitivity (Recall)  Specificity (TNR)\n",
            "Random Forest                   0.9353  0.8030    0.0574     0.8611                0.0297             0.9997\n",
            "PCA(5) + RF                     0.9339  0.7221    0.0335     0.5625                0.0172             0.9990\n",
            "Multi-layer Perceptron (MLP)    0.9339  0.6897    0.0225     0.5714                0.0115             0.9994\n",
            "Decision Tree                   0.8952  0.5679    0.1943     0.1982                0.1906             0.9452\n",
            "PCA(5) + SVM                    0.3568  0.6686    0.1513     0.0829                0.8640             0.3208\n",
            "Logistic Regression             0.3537  0.6745    0.1514     0.0829                0.8688             0.3171\n",
            "Support Vector Machine          0.3419  0.6738    0.1500     0.0820                0.8755             0.3040\n",
            "Perceptron (SLP)                0.2788     N/A    0.1438     0.0780                0.9128             0.2338\n",
            "Naïve Bayesian                  0.1538  0.5559    0.1298     0.0696                0.9511             0.0971\n",
            "\n",
            "* ROC AUC may be 'N/A' for models without predict_proba.\n"
          ]
        }
      ],
      "id": "KRVS-sJwBzO_"
    },
    {
      "cell_type": "code",
      "metadata": {
        "colab": {
          "base_uri": "https://localhost:8080/",
          "height": 630
        },
        "id": "79cQz50kBzO_",
        "outputId": "3fa85ead-7b2e-463b-dbf5-19e883512604"
      },
      "source": [
        "controller.plot_all_roc()"
      ],
      "execution_count": 28,
      "outputs": [
        {
          "output_type": "display_data",
          "data": {
            "text/plain": [
              "<Figure size 1200x800 with 1 Axes>"
            ],
            "image/png": "[encoded data removed]"
          },
          "metadata": {}
        }
      ],
      "id": "79cQz50kBzO_"
    },
    {
      "cell_type": "code",
      "metadata": {
        "colab": {
          "base_uri": "https://localhost:8080/",
          "height": 570
        },
        "id": "4v9VMjl7BzO_",
        "outputId": "8300101a-140b-4846-963b-07b1464a7fa9"
      },
      "source": [
        "controller.plot_loss_curves()"
      ],
      "execution_count": 29,
      "outputs": [
        {
          "output_type": "display_data",
          "data": {
            "text/plain": [
              "<Figure size 800x600 with 1 Axes>"
            ],
            "image/png": "[encoded data removed]"
          },
          "metadata": {}
        }
      ],
      "id": "4v9VMjl7BzO_"
    }
  ]
}